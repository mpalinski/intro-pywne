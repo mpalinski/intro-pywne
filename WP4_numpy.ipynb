{
 "cells": [
  {
   "cell_type": "markdown",
   "metadata": {},
   "source": [
    "# NumPy\n",
    "\n",
    "Źródła: \n",
    "Jake VanderPlas, Python Data Science Handbook, ESSENTIAL TOOLS FOR WORKING WITH DATA\n",
    "Maciej Wilamowski, Łukasz Nawaro\n",
    "\n",
    "Numpy to podstawowy pakiet Python'a służący do obsługi operacji macierzowych i wektorowych. Jest szybki, elastyczny, przydatny do obsługi dużych zbiorów danych i liczb pseudolosowych. Stanowi podstawę dla wielu innych pakietów (w tym Pandas). "
   ]
  },
  {
   "cell_type": "code",
   "execution_count": 2,
   "metadata": {},
   "outputs": [],
   "source": [
    "import numpy as np ### wczytujemy pakiet"
   ]
  },
  {
   "cell_type": "markdown",
   "metadata": {},
   "source": [
    "### Array"
   ]
  },
  {
   "cell_type": "markdown",
   "metadata": {},
   "source": [
    "array: lista zawierająca tylko jeden typ danych - bardziej wydajna forma danych (zajmuje mniej pamięci)"
   ]
  },
  {
   "cell_type": "code",
   "execution_count": 5,
   "metadata": {},
   "outputs": [
    {
     "data": {
      "text/plain": [
       "array([1, 4, 2, 5, 3])"
      ]
     },
     "execution_count": 5,
     "metadata": {},
     "output_type": "execute_result"
    }
   ],
   "source": [
    "np.array([1, 4, 2, 5, 3])"
   ]
  },
  {
   "cell_type": "markdown",
   "metadata": {},
   "source": [
    "możemy też stworzyć macierz"
   ]
  },
  {
   "cell_type": "code",
   "execution_count": 198,
   "metadata": {},
   "outputs": [
    {
     "name": "stdout",
     "output_type": "stream",
     "text": [
      "[range(2, 5), range(4, 7), range(6, 9)]\n"
     ]
    },
    {
     "data": {
      "text/plain": [
       "array([[2, 3, 4],\n",
       "       [4, 5, 6],\n",
       "       [6, 7, 8]])"
      ]
     },
     "execution_count": 198,
     "metadata": {},
     "output_type": "execute_result"
    }
   ],
   "source": [
    "print([range(i, i + 3) for i in [2, 4, 6]])\n",
    "np.array([range(i, i + 3) for i in [2, 4, 6]])"
   ]
  },
  {
   "cell_type": "code",
   "execution_count": 259,
   "metadata": {},
   "outputs": [
    {
     "data": {
      "text/plain": [
       "array([[1, 1],\n",
       "       [0, 1]])"
      ]
     },
     "execution_count": 259,
     "metadata": {},
     "output_type": "execute_result"
    }
   ],
   "source": [
    "np.array( [[1,1],\n",
    "               [0,1]] )"
   ]
  },
  {
   "cell_type": "code",
   "execution_count": 260,
   "metadata": {},
   "outputs": [
    {
     "data": {
      "text/plain": [
       "array([0, 0, 0, 0, 0, 0, 0, 0, 0, 0])"
      ]
     },
     "execution_count": 260,
     "metadata": {},
     "output_type": "execute_result"
    }
   ],
   "source": [
    "np.zeros(10, dtype=int)"
   ]
  },
  {
   "cell_type": "code",
   "execution_count": 261,
   "metadata": {},
   "outputs": [
    {
     "data": {
      "text/plain": [
       "array([[1., 1., 1., 1., 1.],\n",
       "       [1., 1., 1., 1., 1.],\n",
       "       [1., 1., 1., 1., 1.]])"
      ]
     },
     "execution_count": 261,
     "metadata": {},
     "output_type": "execute_result"
    }
   ],
   "source": [
    "np.ones((3, 5), dtype=float)"
   ]
  },
  {
   "cell_type": "code",
   "execution_count": 262,
   "metadata": {},
   "outputs": [
    {
     "data": {
      "text/plain": [
       "array([ 0,  2,  4,  6,  8, 10, 12, 14, 16, 18])"
      ]
     },
     "execution_count": 262,
     "metadata": {},
     "output_type": "execute_result"
    }
   ],
   "source": [
    "np.arange(0, 20, 2) ##podobny do range()"
   ]
  },
  {
   "cell_type": "code",
   "execution_count": 263,
   "metadata": {},
   "outputs": [
    {
     "data": {
      "text/plain": [
       "array([0.  , 0.25, 0.5 , 0.75, 1.  ])"
      ]
     },
     "execution_count": 263,
     "metadata": {},
     "output_type": "execute_result"
    }
   ],
   "source": [
    "np.linspace(0, 1, 5)"
   ]
  },
  {
   "cell_type": "code",
   "execution_count": 264,
   "metadata": {},
   "outputs": [
    {
     "data": {
      "text/plain": [
       "array([[2, 3, 4],\n",
       "       [4, 5, 6],\n",
       "       [6, 7, 8]])"
      ]
     },
     "execution_count": 264,
     "metadata": {},
     "output_type": "execute_result"
    }
   ],
   "source": [
    "x1 = np.array([range(i, i + 3) for i in [2, 4, 6]])\n",
    "x1"
   ]
  },
  {
   "cell_type": "code",
   "execution_count": 265,
   "metadata": {},
   "outputs": [
    {
     "name": "stdout",
     "output_type": "stream",
     "text": [
      "x1 ndim:  2\n",
      "x1 shape: (3, 3)\n",
      "x1 size:  9\n",
      "dtype: int64\n"
     ]
    }
   ],
   "source": [
    "print(\"x1 ndim: \", x1.ndim)\n",
    "\n",
    "print(\"x1 shape:\", x1.shape)\n",
    "print(\"x1 size: \", x1.size)\n",
    "print(\"dtype:\", x1.dtype)"
   ]
  },
  {
   "cell_type": "markdown",
   "metadata": {},
   "source": [
    "### Zadanie\n",
    "\n",
    "1. Stwórz array od 2 do 10\n",
    "2. Stwórz macierz 4X6 z 0"
   ]
  },
  {
   "cell_type": "markdown",
   "metadata": {},
   "source": [
    "### Macierz z istniejącego obiektu\n",
    "Czasem możemy chcieć utworzyć macierz z już istniejącego obiektu. W tym miejscu warto wspomnieć o tym, że zmiana kształtu macierzy jest łatwym i szybkim zadaniem nawet dla dużych macierzy. Nie zmienia to sposobu w jaki zapisana jest macierz w pamięci, ale jedynie sposób interpretacji pamięci."
   ]
  },
  {
   "cell_type": "code",
   "execution_count": 102,
   "metadata": {},
   "outputs": [
    {
     "name": "stdout",
     "output_type": "stream",
     "text": [
      "Lista:  [0, 1, 2, 3, 4, 5, 6, 7, 8, 9, 10, 11]\n",
      "Macierz numpy: [ 0  1  2  3  4  5  6  7  8  9 10 11]\n",
      "Macierz numpy z nowym kształtem:\n",
      " [[ 0  1  2  3]\n",
      " [ 4  5  6  7]\n",
      " [ 8  9 10 11]]\n"
     ]
    }
   ],
   "source": [
    "x = list(range(12))\n",
    "print(\"Lista: \", x)\n",
    "print(\"Macierz numpy:\", np.asarray(x)) #prerób mi na macierz\n",
    "print(\"Macierz numpy z nowym kształtem:\\n\", np.asarray(x).reshape((3, 4))) #krotka jako argument"
   ]
  },
  {
   "cell_type": "markdown",
   "metadata": {},
   "source": [
    "### Wektor/macierz jako range\n",
    "Metoda reshape zastosowana na istniejącej macierzy nie zwróci jej kopii. Utworzy nowy \"widok\" tych samych danych. Możliwy jest również kształt istniejącego widoku.\n",
    "\n",
    "Prześledźmy poniższy przykład, poznając przy okazji sposób tworzenie macierzy z zakresu (arange), który przyjmuje analogiczne argumenty do pythonowego range."
   ]
  },
  {
   "cell_type": "code",
   "execution_count": 266,
   "metadata": {},
   "outputs": [
    {
     "name": "stdout",
     "output_type": "stream",
     "text": [
      "[ 0  2  4  6  8 10 12 14 16 18 20 22]\n"
     ]
    }
   ],
   "source": [
    "r = np.arange(0, 23, 2)\n",
    "print(r)\n",
    "R = r.reshape((3, 4)) #Do R prypisz nowy widok z reshapowanego r\n",
    "# Powyższą linię możemy alternatywnie napisać w ten sposób: R = reshape(r, (3, 4))"
   ]
  },
  {
   "cell_type": "code",
   "execution_count": 269,
   "metadata": {},
   "outputs": [
    {
     "name": "stdout",
     "output_type": "stream",
     "text": [
      "[[ 0  2  4  6]\n",
      " [ 8 10 12 14]\n",
      " [16 18 20 22]]\n"
     ]
    }
   ],
   "source": [
    "print(R)"
   ]
  },
  {
   "cell_type": "code",
   "execution_count": 270,
   "metadata": {},
   "outputs": [],
   "source": [
    "r[0]=10"
   ]
  },
  {
   "cell_type": "code",
   "execution_count": 271,
   "metadata": {},
   "outputs": [
    {
     "data": {
      "text/plain": [
       "array([10,  2,  4,  6,  8, 10, 12, 14, 16, 18, 20, 22])"
      ]
     },
     "execution_count": 271,
     "metadata": {},
     "output_type": "execute_result"
    }
   ],
   "source": [
    "r"
   ]
  },
  {
   "cell_type": "code",
   "execution_count": null,
   "metadata": {},
   "outputs": [],
   "source": [
    "r[0]=10\n",
    "r.shape=(3, 4)\n",
    "print(\"Zmieniając zawartość 'r' zmienia się również zawartość 'R'\") #kolumny i wierszy liczymy od 0\n",
    "print(R)\n",
    "print(r)"
   ]
  },
  {
   "cell_type": "code",
   "execution_count": 208,
   "metadata": {},
   "outputs": [
    {
     "name": "stdout",
     "output_type": "stream",
     "text": [
      "[1 2 3]\n"
     ]
    },
    {
     "data": {
      "text/plain": [
       "array([[1, 2, 3]])"
      ]
     },
     "execution_count": 208,
     "metadata": {},
     "output_type": "execute_result"
    }
   ],
   "source": [
    "x = np.array([1, 2, 3])\n",
    "print(x)\n",
    "x.reshape((1, 3))"
   ]
  },
  {
   "cell_type": "code",
   "execution_count": 209,
   "metadata": {},
   "outputs": [
    {
     "data": {
      "text/plain": [
       "array([[1],\n",
       "       [2],\n",
       "       [3]])"
      ]
     },
     "execution_count": 209,
     "metadata": {},
     "output_type": "execute_result"
    }
   ],
   "source": [
    "x.reshape((3, 1))"
   ]
  },
  {
   "cell_type": "markdown",
   "metadata": {},
   "source": [
    "### Zadanie\n",
    "\n",
    "1. Stwórz 8 elementowy array od 1 do 6 i nazwaj go ar\n",
    "2. Stwórz macierz 2X4 z ar "
   ]
  },
  {
   "cell_type": "markdown",
   "metadata": {},
   "source": [
    "### Liczby losowe"
   ]
  },
  {
   "cell_type": "code",
   "execution_count": 226,
   "metadata": {},
   "outputs": [
    {
     "name": "stdout",
     "output_type": "stream",
     "text": [
      "Pojedyncze liczby losowe:\n",
      "0.6388531020014796\n",
      "1.9972681534153325\n",
      "23.598711468200985\n",
      "\n",
      "Macierz z rozkładu jednostajnego [0,1):\n",
      "[[0.49472638 0.11118103 0.37646387 0.04793264]\n",
      " [0.89238816 0.96289296 0.6159298  0.42667192]\n",
      " [0.59815022 0.72468261 0.45875783 0.49407241]]\n",
      "\n",
      "Macierz z rozkładu normalnego N~(0,1):\n",
      "[[-1.70934100e+00 -3.44840387e-01  1.07363372e-01  5.76202085e-01]\n",
      " [ 4.00047273e-01 -2.26231848e+00 -1.75277032e-01  1.06537636e+00]\n",
      " [ 6.82233694e-02  2.41481945e-01  1.23610943e-01 -2.02091173e-03]]\n",
      "\n",
      "Macierz z rozkładu normalnego N~(20,5):\n",
      "[[18.19874357 21.96967953 21.53654487 16.6220834 ]\n",
      " [17.0539406  17.51575489 13.4784457  17.83725583]\n",
      " [25.35639466 15.07616551 20.11167421 26.13637682]]\n"
     ]
    }
   ],
   "source": [
    "print(\"Pojedyncze liczby losowe:\")\n",
    "print(np.random.random()) # float U~[0,1)] #z rzeczy random daj mi operacja losowa\n",
    "print(np.random.normal()) # float N~[0,1)]\n",
    "print(np.random.normal(20, 5)) # float N~[20,5)]\n",
    "\n",
    "print(\"\\nMacierz z rozkładu jednostajnego [0,1):\")\n",
    "print(np.random.random((3, 4))) # float U~[0,1)]\n",
    "print(\"\\nMacierz z rozkładu normalnego N~(0,1):\")\n",
    "print(np.random.normal(size=(3, 4))) # float N~(0,1)]\n",
    "print(\"\\nMacierz z rozkładu normalnego N~(20,5):\")\n",
    "print(np.random.normal(20, 5, (3, 4))) # float N~(20,5)]"
   ]
  },
  {
   "cell_type": "markdown",
   "metadata": {},
   "source": [
    "### Zadanie\n",
    "\n",
    "1. Wylosuj pojedynczą liczbę z rozkladu  N~[40,6)]\n",
    "2. Wylosuj macierz 4X6 z rozkladu  N~[40,6)]"
   ]
  },
  {
   "cell_type": "markdown",
   "metadata": {},
   "source": [
    "### Adresowanie i indeksowanie\n",
    "Numpy domyślnie tworzy macierze w układzie wierszowym. Kiedy z dwuwymiarowej macierzy wybierzemy fragment stosując tylko jeden wymiar, uzyskamy stosowny wiersz. Jeżeli chcemy wybrać kolumnę musimy wybrać też wszystkie wiersze (:). "
   ]
  },
  {
   "cell_type": "code",
   "execution_count": 108,
   "metadata": {},
   "outputs": [
    {
     "name": "stdout",
     "output_type": "stream",
     "text": [
      "[[ 0  1  2  3]\n",
      " [ 4  5  6  7]\n",
      " [ 8  9 10 11]]\n",
      "Wiersz:  [ 8  9 10 11] ma wymiar (4,)\n",
      "Kolumna:  [ 2  6 10]\n"
     ]
    }
   ],
   "source": [
    "r = np.arange(0, 12)\n",
    "r.shape=(3, 4)\n",
    "print(r)\n",
    "print(\"Wiersz: \", r[2], \"ma wymiar\", r[2].shape) # alternatywnie, r[2, :]\n",
    "print(\"Kolumna: \", r[:,2])"
   ]
  },
  {
   "cell_type": "code",
   "execution_count": 273,
   "metadata": {},
   "outputs": [],
   "source": [
    "x1 = np.random.randint(10, size=6)"
   ]
  },
  {
   "cell_type": "code",
   "execution_count": 274,
   "metadata": {},
   "outputs": [
    {
     "name": "stdout",
     "output_type": "stream",
     "text": [
      "[1 0 5 8 1 6]\n"
     ]
    }
   ],
   "source": [
    "print(x1)"
   ]
  },
  {
   "cell_type": "code",
   "execution_count": 275,
   "metadata": {},
   "outputs": [
    {
     "data": {
      "text/plain": [
       "6"
      ]
     },
     "execution_count": 275,
     "metadata": {},
     "output_type": "execute_result"
    }
   ],
   "source": [
    "x1[-1]"
   ]
  },
  {
   "cell_type": "code",
   "execution_count": 276,
   "metadata": {},
   "outputs": [
    {
     "data": {
      "text/plain": [
       "array([1, 0, 5, 8, 1])"
      ]
     },
     "execution_count": 276,
     "metadata": {},
     "output_type": "execute_result"
    }
   ],
   "source": [
    "x1[:5]"
   ]
  },
  {
   "cell_type": "code",
   "execution_count": 278,
   "metadata": {},
   "outputs": [
    {
     "data": {
      "text/plain": [
       "array([1, 5, 1])"
      ]
     },
     "execution_count": 278,
     "metadata": {},
     "output_type": "execute_result"
    }
   ],
   "source": [
    "x1[::2]"
   ]
  },
  {
   "cell_type": "code",
   "execution_count": 279,
   "metadata": {},
   "outputs": [],
   "source": [
    "x2 = np.random.randint(10, size=(3, 4))"
   ]
  },
  {
   "cell_type": "code",
   "execution_count": 280,
   "metadata": {},
   "outputs": [
    {
     "data": {
      "text/plain": [
       "array([[9, 6, 5, 4],\n",
       "       [8, 0, 9, 9],\n",
       "       [4, 2, 1, 9]])"
      ]
     },
     "execution_count": 280,
     "metadata": {},
     "output_type": "execute_result"
    }
   ],
   "source": [
    "x2"
   ]
  },
  {
   "cell_type": "code",
   "execution_count": 281,
   "metadata": {},
   "outputs": [
    {
     "data": {
      "text/plain": [
       "9"
      ]
     },
     "execution_count": 281,
     "metadata": {},
     "output_type": "execute_result"
    }
   ],
   "source": [
    "x2[0, 0]"
   ]
  },
  {
   "cell_type": "code",
   "execution_count": 282,
   "metadata": {},
   "outputs": [
    {
     "data": {
      "text/plain": [
       "9"
      ]
     },
     "execution_count": 282,
     "metadata": {},
     "output_type": "execute_result"
    }
   ],
   "source": [
    "x2[2, -1]"
   ]
  },
  {
   "cell_type": "code",
   "execution_count": 283,
   "metadata": {},
   "outputs": [
    {
     "data": {
      "text/plain": [
       "array([[9, 6, 5],\n",
       "       [8, 0, 9]])"
      ]
     },
     "execution_count": 283,
     "metadata": {},
     "output_type": "execute_result"
    }
   ],
   "source": [
    "x2[:2, :3] ##rows, columns"
   ]
  },
  {
   "cell_type": "code",
   "execution_count": 287,
   "metadata": {},
   "outputs": [
    {
     "data": {
      "text/plain": [
       "array([9, 6, 5, 4])"
      ]
     },
     "execution_count": 287,
     "metadata": {},
     "output_type": "execute_result"
    }
   ],
   "source": [
    "x2[0, :] # first row of x2"
   ]
  },
  {
   "cell_type": "code",
   "execution_count": 288,
   "metadata": {},
   "outputs": [
    {
     "name": "stdout",
     "output_type": "stream",
     "text": [
      "[9 8 4]\n"
     ]
    }
   ],
   "source": [
    "print(x2[:, 0]) # first column of x2"
   ]
  },
  {
   "cell_type": "markdown",
   "metadata": {},
   "source": [
    "### Łączenie/dzielenie macierzy\n",
    "To często wykonywane operacja. Przydatne tutaj funkcje to concatenate i split. Pierwszą z tych nazw trudno zapamiętać, jeżeli ktoś woli może korzystać z aliasów w postaci vstack i hstack. \n"
   ]
  },
  {
   "cell_type": "code",
   "execution_count": 293,
   "metadata": {},
   "outputs": [
    {
     "data": {
      "text/plain": [
       "array([1, 2, 3, 3, 2, 1])"
      ]
     },
     "execution_count": 293,
     "metadata": {},
     "output_type": "execute_result"
    }
   ],
   "source": [
    "x = np.array([1, 2, 3])\n",
    "y = np.array([3, 2, 1]) \n",
    "np.concatenate([x, y])"
   ]
  },
  {
   "cell_type": "code",
   "execution_count": 294,
   "metadata": {},
   "outputs": [
    {
     "name": "stdout",
     "output_type": "stream",
     "text": [
      "[ 1  2  3  3  2  1 99 99 99]\n"
     ]
    }
   ],
   "source": [
    "z = [99, 99, 99]\n",
    "\n",
    "print(np.concatenate([x, y, z]))"
   ]
  },
  {
   "cell_type": "code",
   "execution_count": 295,
   "metadata": {},
   "outputs": [],
   "source": [
    "grid = np.array([[1, 2, 3],[4, 5, 6]])"
   ]
  },
  {
   "cell_type": "code",
   "execution_count": 296,
   "metadata": {},
   "outputs": [
    {
     "data": {
      "text/plain": [
       "array([[1, 2, 3],\n",
       "       [4, 5, 6],\n",
       "       [1, 2, 3],\n",
       "       [4, 5, 6]])"
      ]
     },
     "execution_count": 296,
     "metadata": {},
     "output_type": "execute_result"
    }
   ],
   "source": [
    "np.concatenate([grid, grid]) "
   ]
  },
  {
   "cell_type": "code",
   "execution_count": 297,
   "metadata": {},
   "outputs": [
    {
     "data": {
      "text/plain": [
       "array([[1, 2, 3, 1, 2, 3],\n",
       "       [4, 5, 6, 4, 5, 6]])"
      ]
     },
     "execution_count": 297,
     "metadata": {},
     "output_type": "execute_result"
    }
   ],
   "source": [
    "np.concatenate([grid, grid], axis=1)"
   ]
  },
  {
   "cell_type": "code",
   "execution_count": 298,
   "metadata": {},
   "outputs": [
    {
     "data": {
      "text/plain": [
       "array([[1, 2, 3],\n",
       "       [4, 5, 6],\n",
       "       [1, 2, 3],\n",
       "       [4, 5, 6]])"
      ]
     },
     "execution_count": 298,
     "metadata": {},
     "output_type": "execute_result"
    }
   ],
   "source": [
    "np.concatenate([grid, grid], axis=0)"
   ]
  },
  {
   "cell_type": "code",
   "execution_count": 299,
   "metadata": {},
   "outputs": [],
   "source": [
    "x = np.array([1, 2, 3])"
   ]
  },
  {
   "cell_type": "markdown",
   "metadata": {},
   "source": [
    "Różne rozmiary: vertical stack oraz horizontal stack"
   ]
  },
  {
   "cell_type": "code",
   "execution_count": 300,
   "metadata": {},
   "outputs": [
    {
     "data": {
      "text/plain": [
       "array([[1, 2, 3],\n",
       "       [9, 8, 7],\n",
       "       [6, 5, 4]])"
      ]
     },
     "execution_count": 300,
     "metadata": {},
     "output_type": "execute_result"
    }
   ],
   "source": [
    "grid = np.array([[9, 8, 7],[6, 5, 4]])\n",
    "np.vstack([x, grid])"
   ]
  },
  {
   "cell_type": "code",
   "execution_count": 304,
   "metadata": {},
   "outputs": [],
   "source": [
    "y = np.array([[99],[99]])"
   ]
  },
  {
   "cell_type": "code",
   "execution_count": 305,
   "metadata": {},
   "outputs": [
    {
     "data": {
      "text/plain": [
       "array([[ 9,  8,  7, 99],\n",
       "       [ 6,  5,  4, 99]])"
      ]
     },
     "execution_count": 305,
     "metadata": {},
     "output_type": "execute_result"
    }
   ],
   "source": [
    "np.hstack([grid, y])"
   ]
  },
  {
   "cell_type": "code",
   "execution_count": 309,
   "metadata": {},
   "outputs": [
    {
     "name": "stdout",
     "output_type": "stream",
     "text": [
      "(3, 4) (3, 4)\n",
      "[[11  4  5 11]\n",
      " [11 10  3  7]\n",
      " [ 5 10  2  7]]\n",
      "[[ 9 10  1  7]\n",
      " [11  4  0  5]\n",
      " [ 4  7  9 10]]\n",
      "Sklejanie w pionie:\n",
      "(6, 4) (6, 4)\n",
      "Sklejanie w poziomie:\n",
      "[[11  4  5 11  9 10  1  7]\n",
      " [11 10  3  7 11  4  0  5]\n",
      " [ 5 10  2  7  4  7  9 10]]\n",
      "(3, 8) (3, 8)\n"
     ]
    }
   ],
   "source": [
    "x = np.random.randint(0, 12, size=(3, 4))\n",
    "y = np.random.randint(0, 12, size=(3, 4))\n",
    "print(x.shape, y.shape)\n",
    "print(x)\n",
    "print(y)\n",
    "print(\"Sklejanie w pionie:\")\n",
    "#print(np.concatenate((x,y)))\n",
    "#print(np.vstack((x,y)))\n",
    "print(np.concatenate((x,y), axis=0).shape, np.vstack((x,y)).shape)\n",
    "print(\"Sklejanie w poziomie:\")\n",
    "print(np.hstack((x,y)))\n",
    "print(np.concatenate((x,y), axis=1).shape, np.hstack((x,y)).shape)\n"
   ]
  },
  {
   "cell_type": "markdown",
   "metadata": {},
   "source": [
    "Split zwróci nam listę"
   ]
  },
  {
   "cell_type": "code",
   "execution_count": 310,
   "metadata": {},
   "outputs": [
    {
     "name": "stdout",
     "output_type": "stream",
     "text": [
      "[1 2 3] [99 99] [3 2 1]\n",
      "[1, 2, 3] [99, 99] [3, 2, 1]\n"
     ]
    }
   ],
   "source": [
    "x = [1, 2, 3, 99, 99, 3, 2, 1]\n",
    "\n",
    "x1, x2, x3 = np.split(x, [3, 5])\n",
    "\n",
    "print(x1, x2, x3)\n",
    "\n",
    "print(x[:3], x[3:5], x[5:])\n"
   ]
  },
  {
   "cell_type": "code",
   "execution_count": 311,
   "metadata": {},
   "outputs": [
    {
     "name": "stdout",
     "output_type": "stream",
     "text": [
      "[[11  8 10  2]\n",
      " [ 4  8  4  0]\n",
      " [ 9 11 11  5]]\n",
      "[array([[11,  8],\n",
      "       [ 4,  8],\n",
      "       [ 9, 11]]), array([[10,  2],\n",
      "       [ 4,  0],\n",
      "       [11,  5]])]\n",
      "[array([[11,  8, 10,  2]]), array([[4, 8, 4, 0]]), array([[ 9, 11, 11,  5]])]\n"
     ]
    }
   ],
   "source": [
    "x = np.random.randint(0, 12, size=(3, 4))\n",
    "print(x)\n",
    "print(np.split(x, 2, axis=1))\n",
    "print(np.split(x, 3, axis=0))\n"
   ]
  },
  {
   "cell_type": "markdown",
   "metadata": {},
   "source": [
    "### Zadanie\n",
    "1. Stwórz 2 macierze 2X3 z random liczbami między 10 a 20,  połącz je wertykalnie oraz horyzontalnie"
   ]
  },
  {
   "cell_type": "markdown",
   "metadata": {},
   "source": [
    "## Algebra i inne funkcje.\n",
    "Numpy posiada wiele wbudowanych funkcji matematycznych, algebraicznych i innych. Poniżej ograniczmy się do zaledwie kilku przykładów. Najważniejsze jest sprawne odszukiwanie funkcji w dokumentacji. Dzięki temu nie tylko dowiemy się czy funkcja jest zaimplementowana, ale również możemy szybko sprawdzić sposób jej implementacji.\n",
    "\n",
    "Poniżej na przykładzie funkcji matematycznych zobaczymy jak ważne jest korzystanie z wbudowanych funkcji, kiedy to tylko możliwe.\n",
    "\n",
    "* Funkcje matematyczne: https://docs.scipy.org/doc/numpy/reference/routines.math.html\n",
    "* Funkcje algebraiczne: https://docs.scipy.org/doc/numpy/reference/routines.linalg.html\n",
    "* Funkcje statystyczne: https://numpy.org/doc/stable/reference/routines.statistics.html\n",
    "* Wykaz pozostałych grup funkcji: https://docs.scipy.org/doc/numpy/reference/index.html"
   ]
  },
  {
   "cell_type": "code",
   "execution_count": 171,
   "metadata": {},
   "outputs": [
    {
     "name": "stdout",
     "output_type": "stream",
     "text": [
      "[6 1 4 4 8]\n"
     ]
    },
    {
     "data": {
      "text/plain": [
       "array([0.16666667, 1.        , 0.25      , 0.25      , 0.125     ])"
      ]
     },
     "execution_count": 171,
     "metadata": {},
     "output_type": "execute_result"
    }
   ],
   "source": [
    "### policzmy odwrotność n\n",
    "\n",
    "np.random.seed(0) \n",
    "\n",
    "def compute_reciprocals(values):\n",
    "    output = np.empty(len(values))\n",
    "    for i in range(len(values)):\n",
    "        output[i] = 1.0 / values[i]\n",
    "    return output \n",
    "\n",
    "values = np.random.randint(1, 10, size=5) \n",
    "print(values)\n",
    "compute_reciprocals(values)"
   ]
  },
  {
   "cell_type": "code",
   "execution_count": 179,
   "metadata": {},
   "outputs": [],
   "source": [
    "big_array = np.random.randint(1, 100, size=1000000) "
   ]
  },
  {
   "cell_type": "code",
   "execution_count": 177,
   "metadata": {},
   "outputs": [
    {
     "data": {
      "text/plain": [
       "array([0.01204819, 0.03448276, 0.01219512, ..., 0.04      , 0.02272727,\n",
       "       0.02777778])"
      ]
     },
     "execution_count": 177,
     "metadata": {},
     "output_type": "execute_result"
    }
   ],
   "source": [
    "compute_reciprocals(big_array)"
   ]
  },
  {
   "cell_type": "code",
   "execution_count": 178,
   "metadata": {},
   "outputs": [
    {
     "name": "stdout",
     "output_type": "stream",
     "text": [
      "1.99 s ± 15.9 ms per loop (mean ± std. dev. of 7 runs, 1 loop each)\n"
     ]
    }
   ],
   "source": [
    "%timeit compute_reciprocals(big_array)"
   ]
  },
  {
   "cell_type": "code",
   "execution_count": 180,
   "metadata": {},
   "outputs": [
    {
     "name": "stdout",
     "output_type": "stream",
     "text": [
      "[0.16666667 1.         0.25       0.25       0.125     ]\n",
      "[0.16666667 1.         0.25       0.25       0.125     ]\n"
     ]
    }
   ],
   "source": [
    "print(compute_reciprocals(values)) \n",
    "print(1.0 / values)"
   ]
  },
  {
   "cell_type": "code",
   "execution_count": 182,
   "metadata": {},
   "outputs": [
    {
     "name": "stdout",
     "output_type": "stream",
     "text": [
      "1.91 ms ± 139 µs per loop (mean ± std. dev. of 7 runs, 100 loops each)\n"
     ]
    }
   ],
   "source": [
    "%timeit (1.0 / big_array)"
   ]
  },
  {
   "cell_type": "code",
   "execution_count": 183,
   "metadata": {},
   "outputs": [
    {
     "name": "stdout",
     "output_type": "stream",
     "text": [
      "x = [0 1 2 3]\n",
      "x + 5 = [5 6 7 8]\n",
      "x - 5 = [-5 -4 -3 -2]\n",
      "x * 2 = [0 2 4 6]\n",
      "x / 2 = [0.  0.5 1.  1.5]\n",
      "x // 2 = [0 0 1 1]\n"
     ]
    }
   ],
   "source": [
    "x = np.arange(4)\n",
    "\n",
    "print(\"x =\", x)\n",
    "print(\"x + 5 =\", x + 5) \n",
    "print(\"x - 5 =\", x - 5) \n",
    "print(\"x * 2 =\", x * 2)\n",
    "print(\"x / 2 =\", x / 2) \n",
    "print(\"x // 2 =\", x // 2)"
   ]
  },
  {
   "cell_type": "code",
   "execution_count": 184,
   "metadata": {},
   "outputs": [
    {
     "data": {
      "text/plain": [
       "array([2, 1, 0, 1, 2])"
      ]
     },
     "execution_count": 184,
     "metadata": {},
     "output_type": "execute_result"
    }
   ],
   "source": [
    "x = np.array([-2, -1, 0, 1, 2])\n",
    "\n",
    "abs(x)"
   ]
  },
  {
   "cell_type": "code",
   "execution_count": 185,
   "metadata": {},
   "outputs": [
    {
     "data": {
      "text/plain": [
       "array([2, 1, 0, 1, 2])"
      ]
     },
     "execution_count": 185,
     "metadata": {},
     "output_type": "execute_result"
    }
   ],
   "source": [
    "np.absolute(x)"
   ]
  },
  {
   "cell_type": "code",
   "execution_count": 253,
   "metadata": {},
   "outputs": [
    {
     "name": "stdout",
     "output_type": "stream",
     "text": [
      "[ 2.71828183  7.3890561  20.08553692]\n",
      "[2. 4. 8.]\n",
      "[ 3  9 27]\n"
     ]
    }
   ],
   "source": [
    "x=[1, 2, 3]\n",
    "print(np.exp(x))\n",
    "print(np.exp2(x))\n",
    "print(np.power(3, x))"
   ]
  },
  {
   "cell_type": "code",
   "execution_count": 257,
   "metadata": {},
   "outputs": [
    {
     "name": "stdout",
     "output_type": "stream",
     "text": [
      "Max:\n",
      "5.8 ms ± 172 µs per loop (mean ± std. dev. of 7 runs, 100 loops each)\n",
      "6.36 µs ± 1.57 µs per loop (mean ± std. dev. of 7 runs, 100 loops each)\n",
      "Sin:\n",
      "2.47 ms ± 125 µs per loop (mean ± std. dev. of 7 runs, 100 loops each)\n",
      "144 µs ± 8.78 µs per loop (mean ± std. dev. of 7 runs, 100 loops each)\n",
      "Mean:\n",
      "The slowest run took 4.35 times longer than the fastest. This could mean that an intermediate result is being cached.\n",
      "15.1 µs ± 10.6 µs per loop (mean ± std. dev. of 7 runs, 100 loops each)\n",
      "11 µs ± 3.57 µs per loop (mean ± std. dev. of 7 runs, 100 loops each)\n"
     ]
    }
   ],
   "source": [
    "import math\n",
    "x = np.random.normal(size=(10000, 1))\n",
    "print(\"Max:\")\n",
    "%timeit -n 100 max(x)\n",
    "%timeit -n 100 x.max()\n",
    "\n",
    "print(\"Sin:\")\n",
    "%timeit -n 100 [math.sin(z) for z in x]\n",
    "%timeit -n 100 np.sin(x)\n",
    "\n",
    "print(\"Mean:\")\n",
    "%timeit -n 100 np.mean(x)\n",
    "%timeit -n 100 x.mean()"
   ]
  },
  {
   "cell_type": "code",
   "execution_count": 252,
   "metadata": {},
   "outputs": [
    {
     "name": "stdout",
     "output_type": "stream",
     "text": [
      "[0 1 2 3]\n",
      "[1 2 3 4]\n",
      "Mnożenie wektorów:\n",
      "20\n",
      "\n",
      "Dla macierzy\n",
      "[[0 1]\n",
      " [2 3]]\n",
      "[[1 2]\n",
      " [3 4]]\n",
      "\n",
      "Mnożenie macierzy:\n",
      "[[ 3  4]\n",
      " [11 16]]\n",
      "\n",
      "Odwracanie macierzy:\n",
      "[[-1.5  0.5]\n",
      " [ 1.   0. ]]\n"
     ]
    }
   ],
   "source": [
    "M = np.arange(0, 4)\n",
    "N = np.arange(1, 5)\n",
    "M.shape=(-1)\n",
    "N.shape=(-1)\n",
    "print(M)\n",
    "print(N)\n",
    "print(\"Mnożenie wektorów:\")\n",
    "print(np.dot(M,N))\n",
    "\n",
    "print(\"\\nDla macierzy\")\n",
    "M = np.arange(0, 4)\n",
    "N = np.arange(1, 5)\n",
    "M.shape=(2, 2)\n",
    "N.shape=(2, 2)\n",
    "print(M)\n",
    "print(N)\n",
    "print(\"\\nMnożenie macierzy:\")\n",
    "print(np.dot(M,N))\n",
    "print(\"\\nOdwracanie macierzy:\")\n",
    "print(np.linalg.inv(M))"
   ]
  },
  {
   "cell_type": "code",
   "execution_count": null,
   "metadata": {},
   "outputs": [],
   "source": []
  }
 ],
 "metadata": {
  "kernelspec": {
   "display_name": "Python 3",
   "language": "python",
   "name": "python3"
  },
  "language_info": {
   "codemirror_mode": {
    "name": "ipython",
    "version": 3
   },
   "file_extension": ".py",
   "mimetype": "text/x-python",
   "name": "python",
   "nbconvert_exporter": "python",
   "pygments_lexer": "ipython3",
   "version": "3.7.1"
  }
 },
 "nbformat": 4,
 "nbformat_minor": 4
}
