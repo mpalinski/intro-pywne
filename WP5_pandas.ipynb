{
 "cells": [
  {
   "cell_type": "markdown",
   "metadata": {},
   "source": [
    "## Pandas\n",
    "\n",
    "\n",
    "Pandas jest podstawowym pakietem pythona do przechowywania i obsługi zbiorów danych. Pandas jest szybki i bardzo, bardzo rozbudowany. Liczba funkcji pandas jest tak duża, że nie sposób opisać ich wszystkich w ramach niniejszego kursu. Naszym celem będzie, więc przybliżenie możliwości tego pakietu, zapoznanie się w stopniu umożliwiającym dalsze samodzielne zgłębianie jego możliwości. \n",
    "\n",
    "W tym notatniku wprowadzimy sobie jedynie podstawy pandas, żeby się z nim wstępnie zapoznać. Lepiej poznajemy jego możliwości w następnych notatnikach na przykładowych zbiorach danych. \n",
    "\n",
    "\n",
    "Tutoriale pozwalające poznać pandas lepiej:\n",
    "* https://pandas.pydata.org/pandas-docs/stable/getting_started/tutorials.html\n",
    "* [i oczywiście dokumentacja](https://pandas.pydata.org/pandas-docs/stable/index.html)\n",
    "\n",
    "\n",
    "W tej lekcji, na potrzeby wprowadzenia wykorzystamy proste zbiory danych dostępne w pakiecie statsmodel (jeżeli nastepna komórka nei wywołuje się poprawnie, prawdopodobnie brakuje nam pakietu statsmodels i powinniśmy go zaintalować).\n",
    "\n",
    "https://www.statsmodels.org/stable/install.html\n"
   ]
  },
  {
   "cell_type": "code",
   "execution_count": null,
   "metadata": {},
   "outputs": [],
   "source": [
    "import pandas as pd\n",
    "import numpy as np\n",
    "import statsmodels.api as sm"
   ]
  },
  {
   "cell_type": "markdown",
   "metadata": {},
   "source": [
    "## Pandas Series\n",
    "Podstawowe typy danych to DataFrame, które składa się z Series. W czym różni się Series od NumPy arrays? To index, którego możemy dowolnie definiować"
   ]
  },
  {
   "cell_type": "code",
   "execution_count": null,
   "metadata": {},
   "outputs": [],
   "source": [
    "data = pd.Series([0.25, 0.5, 0.75, 1.0])"
   ]
  },
  {
   "cell_type": "code",
   "execution_count": null,
   "metadata": {},
   "outputs": [],
   "source": [
    "data"
   ]
  },
  {
   "cell_type": "code",
   "execution_count": null,
   "metadata": {},
   "outputs": [],
   "source": [
    "print(data.values)\n",
    "print(data.index)"
   ]
  },
  {
   "cell_type": "code",
   "execution_count": null,
   "metadata": {},
   "outputs": [],
   "source": [
    "#pd.Series(data, index=index)\n",
    "\n",
    "data = pd.Series([0.25, 0.5, 0.75, 1.0],\n",
    "                 index=[2, 5, 3, 7])\n",
    "data"
   ]
  },
  {
   "cell_type": "markdown",
   "metadata": {},
   "source": [
    "#### Series z słownika"
   ]
  },
  {
   "cell_type": "code",
   "execution_count": null,
   "metadata": {},
   "outputs": [],
   "source": [
    "population_dict = {'California': 38332521, 'Texas': 26448193, 'New York': 19651127, \n",
    "                   'Florida': 19552860, 'Illinois': 12882135}\n",
    "\n",
    "population = pd.Series(population_dict)\n",
    "\n",
    "population"
   ]
  },
  {
   "cell_type": "markdown",
   "metadata": {},
   "source": [
    "## Pandas DataFrame\n",
    "\n",
    "### Tworzenie dataframe'ów\n",
    "\n",
    "Najbezpiecznieszym sposobem tworzenia obiektów DataFrame jest słownik. Wiemy, co przypisujemy do której kolumny, wszystko jest w jednym poleceniu. Metod jest jednak znacznie więcej."
   ]
  },
  {
   "cell_type": "code",
   "execution_count": null,
   "metadata": {},
   "outputs": [],
   "source": [
    "df=pd.DataFrame([{'a': 1, 'b': 2, 'c':1}, {'a':2, 'b': 3, 'c': 4}])"
   ]
  },
  {
   "cell_type": "code",
   "execution_count": null,
   "metadata": {},
   "outputs": [],
   "source": [
    "df"
   ]
  },
  {
   "cell_type": "code",
   "execution_count": null,
   "metadata": {},
   "outputs": [],
   "source": [
    "pd.DataFrame([{'a': 1, 'b': 2}, {'b': 3, 'c': 4}])"
   ]
  },
  {
   "cell_type": "code",
   "execution_count": null,
   "metadata": {},
   "outputs": [],
   "source": [
    "rng = np.random.default_rng(1)  # seed\n",
    "random_integers = rng.integers(5, size=100)\n",
    "random_floats = rng.uniform(size=100)\n",
    "random_cars = rng.choice(['ferrari', 'mercedes', 'alfa romeo', 'renault'], size=100)"
   ]
  },
  {
   "cell_type": "code",
   "execution_count": null,
   "metadata": {},
   "outputs": [],
   "source": [
    "df = pd.DataFrame({'ints': random_integers, 'floats': random_floats, 'car': random_cars})"
   ]
  },
  {
   "cell_type": "code",
   "execution_count": null,
   "metadata": {},
   "outputs": [],
   "source": [
    "df"
   ]
  },
  {
   "cell_type": "code",
   "execution_count": null,
   "metadata": {},
   "outputs": [],
   "source": [
    "df2 = pd.DataFrame([random_integers, random_floats, random_cars]).T\n",
    "df2.columns = ['ints', 'floats', 'car']\n",
    "df3 = pd.DataFrame([random_integers, random_floats, random_cars], index=['ints', 'floats', 'car']).T\n",
    "df4 = pd.DataFrame(zip(random_integers, random_floats, random_cars), columns=['ints', 'floats', 'car'])"
   ]
  },
  {
   "cell_type": "code",
   "execution_count": null,
   "metadata": {},
   "outputs": [],
   "source": [
    "df = pd.DataFrame({'ints': random_integers, 'floats': random_floats, 'car': random_cars})"
   ]
  },
  {
   "cell_type": "markdown",
   "metadata": {},
   "source": [
    "### Indeks oraz indeksowanie elementów\n",
    "\n",
    "Series jest podobny do słownika"
   ]
  },
  {
   "cell_type": "code",
   "execution_count": null,
   "metadata": {},
   "outputs": [],
   "source": [
    "data = pd.Series([0.25, 0.5, 0.75, 1.0],\n",
    "\n",
    "index=['a', 'b', 'c', 'd'])\n",
    "\n",
    "data.keys()"
   ]
  },
  {
   "cell_type": "code",
   "execution_count": null,
   "metadata": {},
   "outputs": [],
   "source": [
    "data['a']"
   ]
  },
  {
   "cell_type": "code",
   "execution_count": null,
   "metadata": {},
   "outputs": [],
   "source": [
    "data['a']=1.5"
   ]
  },
  {
   "cell_type": "code",
   "execution_count": null,
   "metadata": {},
   "outputs": [],
   "source": [
    "data"
   ]
  },
  {
   "cell_type": "markdown",
   "metadata": {},
   "source": [
    "Istnieją dwa podstawowe sposoby adresowania elementów w pandas. Indeksowy (.iloc) oraz etykietowy (.loc). Pierwszy z nich działa analogicznie do dowolnej dwuwymiarowej macierzy w numpy. Drugi natomiast, odwoluje się do indkesu (etykiety) danego df, który może mieć dośc dowolną formę (nie musi być posortowany, monotoniczny, liczbowy, etc.)."
   ]
  },
  {
   "cell_type": "code",
   "execution_count": null,
   "metadata": {},
   "outputs": [],
   "source": [
    "df = pd.DataFrame({'ints': random_integers, 'floats': random_floats, 'car': random_cars}, index=range(2,102))"
   ]
  },
  {
   "cell_type": "code",
   "execution_count": null,
   "metadata": {},
   "outputs": [],
   "source": [
    "df.head()"
   ]
  },
  {
   "cell_type": "code",
   "execution_count": null,
   "metadata": {},
   "outputs": [],
   "source": [
    "df.tail()"
   ]
  },
  {
   "cell_type": "code",
   "execution_count": null,
   "metadata": {},
   "outputs": [],
   "source": [
    "df.columns"
   ]
  },
  {
   "cell_type": "code",
   "execution_count": null,
   "metadata": {},
   "outputs": [],
   "source": [
    "df['ints']"
   ]
  },
  {
   "cell_type": "code",
   "execution_count": null,
   "metadata": {},
   "outputs": [],
   "source": [
    "df[['ints', 'floats']]"
   ]
  },
  {
   "cell_type": "code",
   "execution_count": null,
   "metadata": {},
   "outputs": [],
   "source": [
    "df.iloc[2]"
   ]
  },
  {
   "cell_type": "code",
   "execution_count": null,
   "metadata": {},
   "outputs": [],
   "source": [
    "df.loc[2]"
   ]
  },
  {
   "cell_type": "code",
   "execution_count": null,
   "metadata": {},
   "outputs": [],
   "source": [
    "df.loc[2]"
   ]
  },
  {
   "cell_type": "code",
   "execution_count": null,
   "metadata": {},
   "outputs": [],
   "source": [
    "df.iloc[3:5]"
   ]
  },
  {
   "cell_type": "code",
   "execution_count": null,
   "metadata": {},
   "outputs": [],
   "source": [
    "df.loc[3:5]"
   ]
  },
  {
   "cell_type": "code",
   "execution_count": null,
   "metadata": {},
   "outputs": [],
   "source": [
    "df[3:6]"
   ]
  },
  {
   "cell_type": "markdown",
   "metadata": {},
   "source": [
    "Częstym przypadkiem jest, że musimy indeks \"zresesotować\" - czyli wrócić do numeracji od 0"
   ]
  },
  {
   "cell_type": "code",
   "execution_count": null,
   "metadata": {},
   "outputs": [],
   "source": [
    "df"
   ]
  },
  {
   "cell_type": "code",
   "execution_count": null,
   "metadata": {},
   "outputs": [],
   "source": [
    "df.reset_index()"
   ]
  },
  {
   "cell_type": "code",
   "execution_count": null,
   "metadata": {},
   "outputs": [],
   "source": [
    "df=df.reset_index(drop=True)"
   ]
  },
  {
   "cell_type": "code",
   "execution_count": null,
   "metadata": {},
   "outputs": [],
   "source": [
    "df"
   ]
  },
  {
   "cell_type": "markdown",
   "metadata": {},
   "source": [
    "### Wyświetlanie DataFrame"
   ]
  },
  {
   "cell_type": "code",
   "execution_count": null,
   "metadata": {},
   "outputs": [],
   "source": [
    "data = sm.datasets.fair.load_pandas()\n",
    "data.keys()\n",
    "df=data.data"
   ]
  },
  {
   "cell_type": "code",
   "execution_count": null,
   "metadata": {},
   "outputs": [],
   "source": [
    "df.head()"
   ]
  },
  {
   "cell_type": "code",
   "execution_count": null,
   "metadata": {},
   "outputs": [],
   "source": [
    "df[:10]"
   ]
  },
  {
   "cell_type": "code",
   "execution_count": null,
   "metadata": {},
   "outputs": [],
   "source": [
    "print (df.dtypes)"
   ]
  },
  {
   "cell_type": "code",
   "execution_count": null,
   "metadata": {},
   "outputs": [],
   "source": [
    "print(df)"
   ]
  },
  {
   "cell_type": "markdown",
   "metadata": {},
   "source": [
    "Jak widać kiedy uzyjemy funkcji print, output w notebooku nie wygląda najlepiej. Tymczasem, jeżeli notebook użyje swojej domyślnej funkcji tabela jest ładnie sformatowana. Nie zawsze jednak będziemy chcieli przyglądać się naszej tabelki w ostatnim wierszu komórki. Zamiast Pythonowego print, możemy wykorzystać notebookowy display."
   ]
  },
  {
   "cell_type": "code",
   "execution_count": null,
   "metadata": {},
   "outputs": [],
   "source": [
    "display(df)"
   ]
  },
  {
   "cell_type": "markdown",
   "metadata": {},
   "source": [
    "Korzystając z nazw kolumn możemy łatwo tworzyć nowe widoki istniejącego DataFrame'a lub tworzyć częściowe kopie. Niestety nie zawsze jest to oczywiste, czy nowa zmienna będzie kopią czy tylko referencją. W większości przypadków będzie to jednak kopia."
   ]
  },
  {
   "cell_type": "code",
   "execution_count": null,
   "metadata": {},
   "outputs": [],
   "source": [
    "# Utworzenie referencjiL\n",
    "fExo1 = df[:]\n",
    "# Utworzenie kopii.\n",
    "fExo2 = df.copy()\n",
    "fExo3 = df.copy()\n",
    "print(fExo1._is_view, fExo2._is_view, fExo3._is_view)\n",
    "\n",
    "# Obydwa poniższe wiersze utworzą kopię, pomimo tego, że w pierwszym przypadku nie jest to poweidziane wprost.\n",
    "fExo4 = df[['age', 'children', 'rate_marriage']]\n",
    "fExo5 = df[['age', 'children', 'educ']].copy()\n",
    "print(fExo4._is_view, fExo5._is_view)\n",
    "display(fExo4.head(3))\n"
   ]
  },
  {
   "cell_type": "code",
   "execution_count": null,
   "metadata": {},
   "outputs": [],
   "source": [
    "print(df[\"age\"].head())\n",
    "print(df.age.head())\n",
    "print(df.age.values[0:5])\n",
    "print(type(df.age.values))"
   ]
  },
  {
   "cell_type": "markdown",
   "metadata": {},
   "source": [
    "Zwykle pierwszym krokiem jest wstępna analiza posiadanych danych. Oczywiście możemy sobie narysować histogram (na wykresach skupimy się w innej części kursu), ale możemy również wyświetlić numeryczny opis danych. Wszystkie funkcje, które są zaimplementowane w numpy są również dostępne w pandas.\n",
    "* Lista funkcji opisowych: http://pandas.pydata.org/pandas-docs/stable/api.html#api-dataframe-stats"
   ]
  },
  {
   "cell_type": "code",
   "execution_count": null,
   "metadata": {},
   "outputs": [],
   "source": [
    "print(\"Podstawowe charakterystki: \\n\", df.age.describe())"
   ]
  },
  {
   "cell_type": "code",
   "execution_count": null,
   "metadata": {},
   "outputs": [],
   "source": [
    "df.loc[16:20]"
   ]
  },
  {
   "cell_type": "code",
   "execution_count": null,
   "metadata": {},
   "outputs": [],
   "source": [
    "df['rate_marriage'].loc[16:20].values"
   ]
  },
  {
   "cell_type": "markdown",
   "metadata": {},
   "source": [
    "#### Zadanie\n",
    "\n",
    "1. Wyświetl wiersze w df z indeksem 3-6\n",
    "2. Wyświetl kolumny df: age, yrs_married, occupation\n",
    "3. Wyświetl wartośći kolumny 'rate_marriage', wiersze 16-20 "
   ]
  },
  {
   "cell_type": "markdown",
   "metadata": {},
   "source": [
    "### Modyfikowanie zawartości\n",
    "Zawartość naszej serii lub df możemy modyfikować na wiele sposobów. Zacznijmy od utworzenia nowej kolumny z kwadratem wieku. Wszystkie podane poniżej sposoby pozwolą uzyskać ten sam efekt. Zwróćmy uwagę, że przy przypisaniu wartości do kolumny df musimy korzystać z operatora nazwy kolumny (nie nazwy po kropce)."
   ]
  },
  {
   "cell_type": "code",
   "execution_count": null,
   "metadata": {},
   "outputs": [],
   "source": [
    "df[\"age2\"] = df[\"age\"]*df[\"age\"]\n",
    "df[\"age2\"] = df[\"age\"]**2\n",
    "df[\"age2\"] = df[\"age\"].apply(lambda x: x**2)\n",
    "df[\"age2\"] = np.power(df[\"age\"].values, 2)\n",
    "df[\"age2\"] = [x**2 for x in df[\"age\"].values]\n",
    "df.head(3)"
   ]
  },
  {
   "cell_type": "markdown",
   "metadata": {},
   "source": [
    "#### Zadanie\n",
    "\n",
    "1. Stwórz nową kolumną z \"children\": niech nowe wartości = (children X 2 - 5)\n",
    "2.  Stwórz nową kolumną z \"children\" oraz \"age\": niech nowe wartości = (children X age)\n"
   ]
  },
  {
   "cell_type": "markdown",
   "metadata": {},
   "source": [
    "### Indeksowanie elementów"
   ]
  },
  {
   "cell_type": "code",
   "execution_count": null,
   "metadata": {},
   "outputs": [],
   "source": [
    "import random\n",
    "rainbow = ['red', 'orange', 'yellow', 'green', 'blue', 'indigo', 'violet']\n",
    "df[\"favColor\"] = [random.choice(rainbow) for x in df.index.values]\n",
    "df.head(5)"
   ]
  },
  {
   "cell_type": "code",
   "execution_count": null,
   "metadata": {},
   "outputs": [],
   "source": [
    "print(df.shape)\n",
    "print(\"Zachowywanie indeksów czerwonych wierszy.\")\n",
    "redRows = df.favColor==\"red\""
   ]
  },
  {
   "cell_type": "code",
   "execution_count": null,
   "metadata": {},
   "outputs": [],
   "source": [
    "print(df.loc[df['favColor']==\"red\"].shape)\n",
    "print(df.loc[df.favColor==\"red\"].shape)"
   ]
  },
  {
   "cell_type": "code",
   "execution_count": null,
   "metadata": {},
   "outputs": [],
   "source": [
    "df[df['favColor']==\"red\"].shape"
   ]
  },
  {
   "cell_type": "code",
   "execution_count": null,
   "metadata": {},
   "outputs": [],
   "source": [
    "df.loc[df['favColor']==\"red\"].head(5)"
   ]
  },
  {
   "cell_type": "code",
   "execution_count": null,
   "metadata": {},
   "outputs": [],
   "source": [
    "redRows = df.favColor==\"red\"\n",
    "print(redRows.shape)\n",
    "df.loc[redRows].head(5)"
   ]
  },
  {
   "cell_type": "code",
   "execution_count": null,
   "metadata": {},
   "outputs": [],
   "source": [
    "print(\"Wybieranie wierszy czerwoncyh lub pomarańczowych\")\n",
    "display(df.loc[df.favColor.isin(['red','orange'])].head(5))\n",
    "\n",
    "print(\"Wybieranie młodych czerwonych wierszy\")\n",
    "display(df.loc[(df.favColor==\"red\") & (df.age<=25)].head(5))\n",
    "display(df[(df.favColor==\"red\") & (df.age<=25)].head(5))\n",
    "%timeit df.loc[(df.favColor==\"red\") & (df.age<=25)]\n",
    "%timeit df[(df.favColor==\"red\") & (df.age<=25)]"
   ]
  },
  {
   "cell_type": "code",
   "execution_count": null,
   "metadata": {},
   "outputs": [],
   "source": [
    "display(df.loc[(df['favColor']==\"red\") & (df['age']<=25)].head(5))"
   ]
  },
  {
   "cell_type": "markdown",
   "metadata": {},
   "source": [
    "### Indeksowanie z modyfikacją\n",
    "Jak widać na ostatnim z powyższych przykładóœ, .loc nie jest niezbędne. Kiedy wybieramy wiersze w celu ich wyświetlenia. Jednak kiedy będziemy chcieli zmienić zawartość df, ta metoda jest jest konieczna."
   ]
  },
  {
   "cell_type": "code",
   "execution_count": null,
   "metadata": {},
   "outputs": [],
   "source": [
    "df.loc[df.favColor==\"red\", \"favColor\"]=\"reddish\"\n",
    "df.head(20)\n",
    "# Ten kod nie zadziała:\n",
    "# df[df.favColor==\"red\", \"favColor\"]=\"reddish\""
   ]
  },
  {
   "cell_type": "code",
   "execution_count": null,
   "metadata": {},
   "outputs": [],
   "source": [
    "#poniższy kod wykona się, efekt będzie zgodny z oczekiwaniem, ale pands wyrzuci ostrzeżenie.\n",
    "df.favColor.loc[df.favColor==\"reddish\"]=\"red\"\n",
    "df.head(10)"
   ]
  },
  {
   "cell_type": "markdown",
   "metadata": {},
   "source": [
    "#### Zadanie\n",
    "\n",
    "1.  Wybierz wiersze z df, w którym kolor = violet\n",
    "2. Wybierz wiersze z df, w którym kolor to violet oraz occupation >3\n",
    "3. Wybierz wiersze z df, w którym kolor = green LUB kolor = blue\n",
    "\n",
    "\n"
   ]
  },
  {
   "cell_type": "markdown",
   "metadata": {},
   "source": [
    "### Grupowanie\n",
    "Grupowanie, o czym świadczyć może popularnośc tabel krzyżowych w excelu, przydaje się bardzo często. Przyjrzyjmy się przykładom."
   ]
  },
  {
   "cell_type": "code",
   "execution_count": null,
   "metadata": {},
   "outputs": [],
   "source": [
    "df.groupby(['favColor'])['rate_marriage'].count()"
   ]
  },
  {
   "cell_type": "code",
   "execution_count": null,
   "metadata": {},
   "outputs": [],
   "source": [
    "#Pogrupowane wiersze możemy zapisać jako osobną zmienną.\n",
    "colorGroups = df.groupby(['favColor'])\n",
    "# Możemy wyświetlić lub wykorzystać w całości jedną z grup.\n",
    "display(colorGroups.get_group(\"blue\").head(5))\n",
    "display(colorGroups.get_group(\"blue\")['educ'].head(5))\n",
    "# Możemy policzyć dowolną funkcję na pogrupowanych wartościach.\n",
    "display(colorGroups.count())\n",
    "display(colorGroups.mean())\n",
    "display(df.groupby(['favColor'])['rate_marriage'].count())"
   ]
  },
  {
   "cell_type": "code",
   "execution_count": null,
   "metadata": {},
   "outputs": [],
   "source": [
    "df"
   ]
  },
  {
   "cell_type": "markdown",
   "metadata": {},
   "source": [
    "Wykorzystując funkcję agg() możemy mieć nad naszymi tabelami zdecydowanie większą kontrolę. Możemy dowolnie ustalać to na jakich kolumnach chcemy dokonywać obliczeń i jakich funkcji użyć."
   ]
  },
  {
   "cell_type": "code",
   "execution_count": null,
   "metadata": {},
   "outputs": [],
   "source": [
    "print(\"Podstawowe agregowanie\")\n",
    "display(colorGroups.agg({'educ':'sum', 'yrs_married': 'mean'}))\n",
    "\n",
    "print(\"Agregowanie z wykorzystaniem funkcji numpy lub lambda\")\n",
    "display(colorGroups.agg({'educ':np.mean, 'yrs_married': lambda x: np.sqrt(x).sum()}))\n",
    "\n",
    "print(\"Agregowanie z wieloma statystykami dla jednej kolumny\")\n",
    "df.groupby(['favColor']).agg({'educ':[np.mean, 'sum', np.std], 'yrs_married': 'mean'})"
   ]
  },
  {
   "cell_type": "markdown",
   "metadata": {},
   "source": [
    "#### Zadanie\n",
    "\n",
    "display(df.groupby(['favColor'])['rate_marriage'].count())\n",
    "1. Policz liczbę obserwacji dla każdej grupy wiekowej (age)\n",
    "2. Wyświetl liczbę obserwacji oraz średnią dla yrs_married dla każdej grupy wiekowej (age)\n",
    "\n",
    "\n"
   ]
  },
  {
   "cell_type": "markdown",
   "metadata": {},
   "source": [
    "## Łączenie DataFrame'ów\n",
    "O łączeniu datafram'ów ze sobą można w skrócie powiedzieć, że pandas obsługuje wszystkie możliwe łączenia. Na tym etapie kursu spojrzymy na proste łączenia w pionie i poziomie, a do bardziej zaawansowanych joinów wskażemy wyłącznie dokumentację. Wrócimy do nich w dalszej części kursu na innych zbiorach danych.\n",
    "* http://pandas.pydata.org/pandas-docs/stable/merging.html"
   ]
  },
  {
   "cell_type": "code",
   "execution_count": null,
   "metadata": {},
   "outputs": [],
   "source": [
    "df = pd.DataFrame(columns=['A','B'])\n",
    "df[\"A\"] = np.arange(4)\n",
    "df[\"B\"] = np.arange(4)\n",
    "display(df)\n",
    "print(\"Sklejanie w poziomie\")\n",
    "display(pd.concat((df, df), axis=1))\n",
    "print(\"Sklejanie w pionie\")\n",
    "display(pd.concat((df, df), axis=0))\n",
    "print(\"Sklejanie w pionie z reindeksowaniem:\")\n",
    "display(pd.concat((df, df), axis=0, ignore_index=True))"
   ]
  }
 ],
 "metadata": {
  "kernelspec": {
   "display_name": "Python 3",
   "language": "python",
   "name": "python3"
  },
  "language_info": {
   "codemirror_mode": {
    "name": "ipython",
    "version": 3
   },
   "file_extension": ".py",
   "mimetype": "text/x-python",
   "name": "python",
   "nbconvert_exporter": "python",
   "pygments_lexer": "ipython3",
   "version": "3.7.1"
  }
 },
 "nbformat": 4,
 "nbformat_minor": 4
}
