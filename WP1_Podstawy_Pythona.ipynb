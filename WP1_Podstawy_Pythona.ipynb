{
 "cells": [
  {
   "cell_type": "markdown",
   "metadata": {},
   "source": [
    "# Podstawy Pythona\n",
    "\n",
    "Zagadnienia na dziś (i prawdopodobnie na następne zajęcia):\n",
    "\n",
    "* Python jako język programowania\n",
    "* edytory kodu i IDE\n",
    "* obsługa Jupyter Notebooka\n",
    "* print\n",
    "* zmienne\n",
    "* podstawowe typy zmiennych\n",
    "\n",
    "*Większość kodu/tekstu jest skopiowana z materiałów Łukasza Nawaro oraz doktora M. Wilamowskiego, kilka przykładów pochodzi z książki Bill Lubanovic: Introducing Python (O'Reilly).  Jeśli ktoś zrobił już coś najlepiej jak się da i odpowiednio do naszych zastosowań, to należy tę pracę wykorzystać (oczywiście zgodnie z licencją), a nie wynajdować koło od nowa. Szczególnie ważne jest to w programowaniu – rozwiązanie większości problemów można wyszukać na StackOverflow. Ewentualne błędy są moje.*\n",
    "\n",
    "## Python, IPython, Jupyter\n",
    "Zwykle skrypty Pythona/programy wykonują się od początku do końca. Nie ma możliwości przerwania programu na chwilę, zachowania jego stanu i wrócenia do wykonywania operacji.\n",
    "\n",
    "Podstawową metodą interaktywności jest konsola (na Windowsie, Anaconda Prompt). Wygląda jak DOS w latach 80. i na początku 90.: białe literki na czarnym tle (domyślnie; na Linuxie można dostosować do swoich potrzeb). Choć wcześniejsze wyniki są dostępne wewnątrz sesji, to powrót do nich po wyjściu jest trudny/niemożliwy.\n",
    "\n",
    "W celu rozwiązania tego problemu stworzony został IPython (Interactive Python), który pozwala na interaktywną pracę ze skryptami, czyli zachowuje obiekty w pamięci na stałe, dzięki czemu zawsze można do nich wrócić. Można też wykonywać kolejne kody, przerywać ich wykonywanie, a wszystko zostanie w pamięci. Jupyter to nakładka graficzna do obsługi IPythona.\n",
    "\n",
    "Istnieje bardzo wiele środowisk, w których możemy pracować, począwszy od prostego notatnika, vima, nano, notepad++(qq), Sublime Text, przez Jupyter Notebooka i JupyterLab, aż do rozwiniętych IDE (pyCharm, Spyder etc.). Docelowo każdy może wybrać to rozwiązanie, które akurat mu pasuje. Na potrzeby kursu wystarczy nam praca z JupyterLabem, który jest bardzo wygodny, szybki, ma przyjazny interfejs i ułatwia wstawianie czytelnych, ustrukturalizowanych komentarzy tekstowych.\n",
    "\n",
    "## Krótko o innych opcjach\n",
    "\n",
    "* Notatnik: opcja demonstrująca, że programować można we wszystkim. Brak podstawowych funkcji, jak kolorowanie składni, powoduje, że programowanie jest bardzo trudne. Nadaje się do szybkiej edycji plików.\n",
    "* nano: konsolowy odpowiednik notatnika na Linux/macOS. Ctrl+O zapisuje plik, ctrl+X wychodzi z pliku, ctrl+W otwiera funkcję wyszukiwania.\n",
    "* vi/vim: potężny, ale trudny w obsłudze edytor tekstu, tylko dla zaawansowanych użytkowników. Stroma krzywa uczenia, potrzeba dużo czasu, aby nauczyć się używać go efektywnie używać. Początkującym użytkownikom trudność sprawia wyjście z vima, jeśli przypadkowo uruchomi się ten program, trzeba nacisnąć (w tej kolejności): Esc : q ! Enter. Alternatywnie, jeśli chcemy zapisać wyniki, Esc : w q Enter. Tutaj bezpieczniej bez wykrzyknika.\n",
    "\n",
    "\n",
    "* notepad++/Sublime Text: podobne pod względem użyteczności zaawansowane edytory tekstu. Przyjazne i łatwe w obsłudze, ich ważną zaletą są odpowiednio pluginy/rozszerzenia.\n",
    "* pyCharm: jeśli projekt nie jest możliwy do skończenia w jednym, krótkim pliku, absolutnie niezbędne narzędzie (alternatywne IDE, typu Visual Studio, też są przydatne). W ogromnym stopniu ułatwia rozeznanie się w projekcie, utrudnia popełnianie błędów, podpowiada, co możemy chcieć napisać, ma zaawansowane możliwości autouzupełniania.\n",
    "\n",
    "Do eksperymentów i nauki będziemy używać JupyterLab.\n",
    "\n",
    "## Obsługa Jupyter Lab\n",
    "\n",
    "Obsługa Jupytera jest wyjątkowo prosta. Kilka najważniejszych informacji:\n",
    "* Pojedynczą komórkę wykonujemy kombinacją klawiszy Shift+Enter (od razu przejdziemy do następnej) lub Ctrl+Enter (pozostaniemy w tej samej komórce).\n",
    "* Jeżeli chcemy uruchomić wszystkie komórki lub np. wszystkie poniżej obecnie aktywnej, powyżej wybieramy Run > i stosowną opcję Run.\n",
    "\n",
    "Możemy korzystać z ikon znajdujących się powyżej:\n",
    "* Ikona kwadratu zatrzyma obecnie wykonywaną operację.\n",
    "* Ikona \"+\" dodaje nową, pustą komórkę pod obecnie wybraną.\n",
    "* Nożyczki pozwalają komórkę wyciąć, a ikona obok pozwala ją skopiować.\n",
    "* Z rozwijanego menu możemy wybrać typ komórki (np. czy tekstowa - Markdown, czy może kod - Code).\n",
    "* Kernel (dany notatnik) możemy uruchomić ponownie wybierając Kernel > Restart Kernel... powyżej lub ikonę zakręconej strzałki. Dwa trójkąty podstawą w lewo uruchamiają ponownie kernel, a potem wszystkie komórki. Ponowne uruchomienie notatnika spowoduje utratę wszystkich wyników.\n",
    "* Co jakiś czas notatnik zapisuje się automatycznie. Niemniej warto w kluczowych momentach korzystać z ręcznego zapisu (Ctrl+S). Warto to zrobić tuż przed uruchamianiem nowego kodu.\n",
    "\n",
    "Skróty klawiszowe pomogą nam zwiększyć efektywność pracy. Podstawowe skróty to:\n",
    "\n",
    "* Kombinacja klawiszy Ctrl+/ służy do komentowania linii.\n",
    "* Tab pozwala nam na łatwie robienie wcięć (gdy jesteśmy na początku linii lub mamy zaznaczonych ich kilka), a Shift+Tab na ich usuwanie (kiedy jesteśmy na początku linii lub jest wiele linii zaznaczonych). \n",
    "* Tab pozwala również na autouzupełnianie gdy jesteśmy na końcu linii.\n",
    "* Shift+Tab, gdy jesteśmy w środku linii pozwala na zapoznanie się z dokumentacją danego obiektu (zwykle gdy jesteśmy wewnątrz okrągłego nawiasu)."
   ]
  },
  {
   "cell_type": "markdown",
   "metadata": {},
   "source": [
    "# Podstawy"
   ]
  },
  {
   "cell_type": "markdown",
   "metadata": {},
   "source": [
    "## Funkcja print i \"witaj świecie\"\n",
    "Wyświetlanie komunikatów obsługuje funkcja \"print\". Czym są funkcje? W matematyce, funkcja dla danych argumentów zwraca dokładnie jeden wynik. **Funkcja** w programowaniu również dla danych argumentów (w przypadku niżej, \"Hello world! :)\" zwraca wynik. Tutaj go nie widzimy, ponieważ dla funkcji `print` istotne jest to, co się dzieje w środku funkcji – ona mówi komputerowi, że ma wypisać jej argument.\n",
    "\n",
    "Dla ciekawych, ponieważ każda funkcja musi coś zwracać, funkcja `print` zwraca `None`."
   ]
  },
  {
   "cell_type": "code",
   "execution_count": null,
   "metadata": {},
   "outputs": [],
   "source": [
    "print('Hello world! :)')\n",
    "# Od wersji 3 pythona print jest funkcją, więc wymagane jest użycie nawiasów.\n",
    "# W starszej wersji Pythona poniższy kod też był prawidłowy.\n",
    "# print 'Hello world! :)'\n",
    "# Zwykle właśnie po poleceniu print bez nawiasów najłatwiej rozpoznać, że mamy do czynienia z drugą wersją Pythona."
   ]
  },
  {
   "cell_type": "code",
   "execution_count": 13,
   "metadata": {},
   "outputs": [
    {
     "name": "stdout",
     "output_type": "stream",
     "text": [
      "test\n",
      "zawartość wynik_print to:\n",
      "None\n",
      "abc\n"
     ]
    }
   ],
   "source": [
    "wynik_print = print('test')\n",
    "print('zawartość wynik_print to:')\n",
    "print(wynik_print)\n",
    "\n",
    "zmienna = 'abc'\n",
    "print(zmienna)"
   ]
  },
  {
   "cell_type": "code",
   "execution_count": 16,
   "metadata": {},
   "outputs": [
    {
     "name": "stdout",
     "output_type": "stream",
     "text": [
      "\"All the world's a stage\"\n"
     ]
    }
   ],
   "source": [
    "print('''\"All the world's a stage\"''')"
   ]
  },
  {
   "cell_type": "code",
   "execution_count": 17,
   "metadata": {},
   "outputs": [
    {
     "name": "stdout",
     "output_type": "stream",
     "text": [
      "whomst'd've?\n"
     ]
    }
   ],
   "source": [
    "print('''whomst'd've?''')"
   ]
  },
  {
   "cell_type": "markdown",
   "metadata": {},
   "source": [
    "## Zmienne\n",
    "Zauważmy, że użyliśmy wyżej znaku równości. Przypisaliśmy do `wynik_print` wartość, którą funkcja `print` zwraca.\n",
    "\n",
    "Wyobraźmy sobie, że pamięć RAM komputera to pudełka. Konkretnemu pudełku możemy nadać nazwę i włożyć do pudełka wartość. Wiemy, że pudełko znajdujące się na górze po prawej stronie nazywa się `x` i ma wartość 1. Nazywamy to **zmienną**: precyzyjnie będzie to miejsce w pamięci, identyfikowane przez adres, z nazwą, zawierające wartość.\n",
    "\n"
   ]
  },
  {
   "cell_type": "code",
   "execution_count": null,
   "metadata": {},
   "outputs": [],
   "source": [
    "x=1\n",
    "print(x)"
   ]
  },
  {
   "cell_type": "code",
   "execution_count": null,
   "metadata": {},
   "outputs": [],
   "source": [
    "y=x\n",
    "print(y)"
   ]
  },
  {
   "cell_type": "markdown",
   "metadata": {},
   "source": [
    "Nazwa zmiennej nie może się zaczynać od liczb:"
   ]
  },
  {
   "cell_type": "code",
   "execution_count": null,
   "metadata": {},
   "outputs": [],
   "source": [
    "#1a=3"
   ]
  },
  {
   "cell_type": "markdown",
   "metadata": {},
   "source": [
    "Lista nazw zarezerwowanych: \n",
    "\n",
    "False None True and as assert break\n",
    "\n",
    "class continue def del elif else except\n",
    "\n",
    "finally for from global if import in\n",
    "\n",
    "is lambda nonlocal not or pass raise\n",
    "\n",
    "return try while with yield"
   ]
  },
  {
   "cell_type": "code",
   "execution_count": null,
   "metadata": {},
   "outputs": [],
   "source": [
    "_a=3\n",
    "a_=3\n",
    "A=3\n",
    "a_b_c=3"
   ]
  },
  {
   "cell_type": "markdown",
   "metadata": {},
   "source": [
    "Wspomniane pudełka mogą zawierać tylko zera i jedynki. Skąd komputer wie, że dany ciąg zer i jedynek trzeba przeliczyć na konkretną liczbę? Wartość zmiennej będzie definiować jej **typ**. Python ma kilka podstawowych typów zmiennych przechowujących jedną wartość:\n",
    "* bool (boolean): prawda (True) lub fałsz (False)\n",
    "* int (integer): liczba całkowita\n",
    "* float (floating point): liczba zmiennoprzecinkowa (ułamek)\n",
    "* str (string): tekst\n",
    "\n",
    "W Pythonie nie musimy deklarować ani typów zmiennych, ani faktu, że chcemy je później użyć. Po prostu przypisujemy wartość do wybranej przez nas nazwy, która powinna być możliwie deskryptywna."
   ]
  },
  {
   "cell_type": "code",
   "execution_count": 68,
   "metadata": {},
   "outputs": [
    {
     "name": "stdout",
     "output_type": "stream",
     "text": [
      "typ zmiennej x: <class 'int'> prawda:  <class 'bool'> text:  <class 'str'>\n"
     ]
    }
   ],
   "source": [
    "x = -1\n",
    "prawda = True\n",
    "text = 'text'\n",
    "\n",
    "print('typ zmiennej x:', type(x), 'prawda: ', type(prawda), 'text: ' ,type(text))"
   ]
  },
  {
   "cell_type": "markdown",
   "metadata": {},
   "source": [
    "Widać przy okazji, że funkcja print może przyjmować wiele argumentów.\n",
    "\n",
    "Wyświetlanie zawartości zmiennych możemy uzyskać też w inny sposób:"
   ]
  },
  {
   "cell_type": "code",
   "execution_count": 69,
   "metadata": {},
   "outputs": [
    {
     "name": "stdout",
     "output_type": "stream",
     "text": [
      "Typ zmiennej x to:         <class 'int'>         , a zmiennej text: <class 'str'>, a zmienna prawda to: <class 'bool'>\n"
     ]
    }
   ],
   "source": [
    "print(\"Typ zmiennej x to: {:^30}, a zmiennej text: {}, a zmienna prawda to: {}\".format(\n",
    "    str(type(x)), type(text), type(prawda)))"
   ]
  },
  {
   "cell_type": "markdown",
   "metadata": {},
   "source": [
    "W ten sposób możemy lepiej kontrolować sposób formatowania zmiennych. Więcej na ten temat możemy przeczytać np. tutaj: https://pyformat.info/"
   ]
  },
  {
   "cell_type": "markdown",
   "metadata": {},
   "source": [
    "Możemy też zmienić typ zmiennej."
   ]
  },
  {
   "cell_type": "code",
   "execution_count": 70,
   "metadata": {},
   "outputs": [
    {
     "name": "stdout",
     "output_type": "stream",
     "text": [
      "True <class 'bool'>\n"
     ]
    }
   ],
   "source": [
    "print(prawda, type(prawda))"
   ]
  },
  {
   "cell_type": "code",
   "execution_count": null,
   "metadata": {
    "scrolled": true
   },
   "outputs": [],
   "source": [
    "prawda = str(prawda)\n",
    "print(prawda, type(prawda))"
   ]
  },
  {
   "cell_type": "code",
   "execution_count": null,
   "metadata": {},
   "outputs": [],
   "source": [
    "x=1.25\n",
    "print(x, type(x))"
   ]
  },
  {
   "cell_type": "markdown",
   "metadata": {},
   "source": [
    "### Zadanie"
   ]
  },
  {
   "cell_type": "markdown",
   "metadata": {},
   "source": [
    "1. Wyświetl tekst *I am learning Python* używając funkcji print.\n",
    "2. Stwórz zmienną o nazwie *temp* i nadaj jej wartość 15. Wyświetl typ zmiennej *temp* za pomocą funckcji print.\n",
    "3. Wyświetl tekst *typ zmiennej temp:*  oraz typ *temp* za pomocą funckcji print\n",
    ". Co zrobić, aby wyprintować *I am not being \"ironic\"* z cudzysłowami?"
   ]
  },
  {
   "cell_type": "markdown",
   "metadata": {},
   "source": [
    "## Operatory\n",
    "Poza oczywistymi operatorami (+,-,/,\\*) w Pythonie mamy również dostępne dzielenie modulo (// - dzielnik, % - reszta) oraz potęgowanie \\*\\*.\n",
    "\n",
    "Operatory relacji są standardowe: >=, >, <=, <, == (równe: zwróć uwagę na dwa znaki równości!), != (różne od).\n",
    "\n"
   ]
  },
  {
   "cell_type": "code",
   "execution_count": null,
   "metadata": {},
   "outputs": [],
   "source": [
    "a=12\n",
    "print(a-3)\n",
    "print(a)\n",
    "a=a-3\n",
    "print(a)"
   ]
  },
  {
   "cell_type": "code",
   "execution_count": null,
   "metadata": {},
   "outputs": [],
   "source": [
    "a=12\n",
    "a-=3\n",
    "print(a)\n",
    "a+=5\n",
    "print(a)"
   ]
  },
  {
   "cell_type": "code",
   "execution_count": null,
   "metadata": {},
   "outputs": [],
   "source": [
    "a*2"
   ]
  },
  {
   "cell_type": "code",
   "execution_count": null,
   "metadata": {},
   "outputs": [],
   "source": [
    "b=3\n",
    "print(b**2)\n",
    "print(b**3)"
   ]
  },
  {
   "cell_type": "code",
   "execution_count": null,
   "metadata": {},
   "outputs": [],
   "source": [
    "7/2"
   ]
  },
  {
   "cell_type": "code",
   "execution_count": null,
   "metadata": {},
   "outputs": [],
   "source": [
    "8/4 "
   ]
  },
  {
   "cell_type": "code",
   "execution_count": null,
   "metadata": {},
   "outputs": [],
   "source": [
    "#5/0"
   ]
  },
  {
   "cell_type": "markdown",
   "metadata": {},
   "source": [
    "truncating integer division"
   ]
  },
  {
   "cell_type": "code",
   "execution_count": null,
   "metadata": {},
   "outputs": [],
   "source": [
    "9 // 2"
   ]
  },
  {
   "cell_type": "code",
   "execution_count": null,
   "metadata": {},
   "outputs": [],
   "source": [
    "9%2"
   ]
  },
  {
   "cell_type": "code",
   "execution_count": null,
   "metadata": {},
   "outputs": [],
   "source": [
    "'Release the kraken! ' + 'No, wait!'"
   ]
  },
  {
   "cell_type": "code",
   "execution_count": null,
   "metadata": {},
   "outputs": [],
   "source": [
    "a = 'Duck.'\n",
    "b = a\n",
    "c = 'Grey Duck!'\n",
    "print(a + b + c)\n",
    "print(a+' '+b+' '+c)\n",
    "\n",
    "\n",
    "print(a, b, c)"
   ]
  },
  {
   "cell_type": "code",
   "execution_count": 40,
   "metadata": {},
   "outputs": [
    {
     "name": "stdout",
     "output_type": "stream",
     "text": [
      "h e l l\n",
      "hell\n",
      "helloworld\n"
     ]
    }
   ],
   "source": [
    "a = \"hello\"\n",
    "b = 'world'\n",
    "# Możemy wypisać pierwsze cztery znaki po kolei:\n",
    "print(a[0], a[1], a[2], a[3])\n",
    "# Albo \"na raz\"\n",
    "print(a[0:4])\n",
    "#Sumując dwa stringi uzyskamy trzeci inny obiekt. a i b pozostaną niezmienione.\n",
    "print(a+b)"
   ]
  },
  {
   "cell_type": "code",
   "execution_count": 41,
   "metadata": {},
   "outputs": [
    {
     "name": "stdout",
     "output_type": "stream",
     "text": [
      "Wielolinijkowy\n",
      "ciąg\n",
      "znaków\n",
      "True\n"
     ]
    }
   ],
   "source": [
    "c = '''Wielolinijkowy\n",
    "ciąg\n",
    "znaków'''\n",
    "print(c)\n",
    "d = 'hello world'\n",
    "print(a in d)"
   ]
  },
  {
   "cell_type": "code",
   "execution_count": 30,
   "metadata": {},
   "outputs": [
    {
     "name": "stdout",
     "output_type": "stream",
     "text": [
      "False\n",
      "False\n",
      "True\n",
      "True\n",
      "False\n",
      "False\n",
      "True\n"
     ]
    }
   ],
   "source": [
    "a=4\n",
    "b=4\n",
    "print(a>b)\n",
    "print(a<b)\n",
    "print(a==b)\n",
    "print(a>=b)\n",
    "print('Łódź' == 'łódź')\n",
    "print('apple'>'bus')\n",
    "print('apple'<'bus')"
   ]
  },
  {
   "cell_type": "markdown",
   "metadata": {},
   "source": [
    "### Zadanie\n",
    "\n"
   ]
  },
  {
   "cell_type": "markdown",
   "metadata": {},
   "source": [
    "1. Policz, ile sekund jest w godzinie. Stwórz zmienną *seconds_per_hour* i nadaj jej tę wartość.\n",
    "2. Policz, ile jest sekund w dobie. Stwórz zmienną *seconds_per_day* i nadaj jej tę wartość.\n",
    "3. Podziel seconds_per_day poprzez seconds_per_hour.\n",
    "4. Stwórz zmienną *x* i nadaj jej wartość *october*. Stwórz zmienną *y* i nadaj jej wartość 2022 z typem integer. Stwórz nową zmienną wykorzystując x oraz y, która przymuje wartość *october 2021*.\n"
   ]
  },
  {
   "cell_type": "markdown",
   "metadata": {},
   "source": [
    "#### Inne operatory"
   ]
  },
  {
   "cell_type": "markdown",
   "metadata": {},
   "source": [
    "Operatory logiczne: and, or, not.\n",
    "\n",
    "https://bogdan.students.wmi.amu.edu.pl/education/python%202.7%20and%20django%201.3/Wyklad_4.html\n",
    "\n",
    "x or y  - jeżeli x == False, to y, w przeciwnym razie x \n",
    "w przybliżeniu alternatywa\n",
    "\n",
    "x and y - jeżeli x == False, to x, w przeciwnym razie y \n",
    "w przybliżeniu koniunkcja"
   ]
  },
  {
   "cell_type": "code",
   "execution_count": 87,
   "metadata": {},
   "outputs": [
    {
     "data": {
      "text/plain": [
       "True"
      ]
     },
     "execution_count": 87,
     "metadata": {},
     "output_type": "execute_result"
    }
   ],
   "source": [
    "x=4\n",
    "y=8\n",
    "\n",
    "x<y and x+4<=y"
   ]
  },
  {
   "cell_type": "code",
   "execution_count": 91,
   "metadata": {},
   "outputs": [
    {
     "data": {
      "text/plain": [
       "True"
      ]
     },
     "execution_count": 91,
     "metadata": {},
     "output_type": "execute_result"
    }
   ],
   "source": [
    "x=4\n",
    "y=8\n",
    "\n",
    "x>y or x+4<=y"
   ]
  },
  {
   "cell_type": "code",
   "execution_count": 92,
   "metadata": {},
   "outputs": [],
   "source": [
    "# # https://www.freecodecamp.org/news/operators-in-python-how-to-use-logical-operators-in-python/\n",
    "\n",
    "# a = True\n",
    "# b = 2\n",
    "# print (a or b) \n",
    "# print (b or a) \n",
    "# print (b and a) \n",
    "# print (a and b) "
   ]
  },
  {
   "cell_type": "code",
   "execution_count": null,
   "metadata": {},
   "outputs": [],
   "source": []
  },
  {
   "cell_type": "code",
   "execution_count": null,
   "metadata": {},
   "outputs": [],
   "source": []
  },
  {
   "cell_type": "markdown",
   "metadata": {},
   "source": [
    "Bitowe operatory to & - AND (i), | - OR (lub), ^ - XOR (albo, albo), ~ - NOT (nie), << przesuń w lewo, >> przesuń w prawo. \n",
    "\n",
    "\n"
   ]
  },
  {
   "cell_type": "markdown",
   "metadata": {},
   "source": [
    "Dla zainteresowanych: https://realpython.com/python-bitwise-operators/"
   ]
  },
  {
   "cell_type": "markdown",
   "metadata": {},
   "source": [
    "### Obiekty\n",
    "\n",
    "Python jest zorientowanym obiektowo językiem programowania. Oznacza to w uproszczeniu, że prawie wszystko jest obiektem. **Obiekt** może mieć atrybuty (zmienne) i metody (funkcje). Pozwala to zachować porządek nawet w dużych projektach.\n",
    "\n",
    "Zarówno do atrybutów, jak i metod, zwracamy się składnią `obiekt.atrybut_lub_metoda`. Aby wykonać metodę, tak jak funkcję, musimy użyć nawiasów okrągłych, czyli `obiekt.metoda(ewentualne_parametry)`.\n",
    "\n",
    "Na razie nie będziemy wykorzystywać w pełni zorientowania obiektowego.\n",
    "\n",
    "## Typy danych pozwalające przechowywać wiele elementów\n",
    "Cztery podstawowe takie typy danych w Pythonie to:\n",
    "* Listy\n",
    "* Krotki (tuple)\n",
    "* Słowniki\n",
    "* Zbiory\n"
   ]
  },
  {
   "cell_type": "markdown",
   "metadata": {},
   "source": [
    "### Listy i tuple\n",
    "Listy są podstawowym sposobem do przechowywania danych w Pythonie, dzięki temu, że można je łatwo modifykować (są *mutable*) i zachowują się przy tym w przewidywalny sposób."
   ]
  },
  {
   "cell_type": "code",
   "execution_count": null,
   "metadata": {},
   "outputs": [],
   "source": [
    "# Listy tworzymy z wykorzystaniem nawiasów kwadratowych.\n",
    "pusta_lista = []\n",
    "# Możemy też stworzyć listę tworząc nowy obiekt, który jest listą.\n",
    "pusta_lista = list()\n",
    "\n",
    "kolory = [\"red\", \"blue\", \"green\", \"orange\"]"
   ]
  },
  {
   "cell_type": "code",
   "execution_count": null,
   "metadata": {},
   "outputs": [],
   "source": [
    "pusta_lista"
   ]
  },
  {
   "cell_type": "code",
   "execution_count": null,
   "metadata": {},
   "outputs": [],
   "source": [
    "kolory"
   ]
  },
  {
   "cell_type": "code",
   "execution_count": null,
   "metadata": {},
   "outputs": [],
   "source": [
    "len(kolory)"
   ]
  },
  {
   "cell_type": "code",
   "execution_count": null,
   "metadata": {},
   "outputs": [],
   "source": [
    "kolory[0]"
   ]
  },
  {
   "cell_type": "code",
   "execution_count": null,
   "metadata": {},
   "outputs": [],
   "source": [
    "kolory[3]"
   ]
  },
  {
   "cell_type": "code",
   "execution_count": null,
   "metadata": {},
   "outputs": [],
   "source": [
    "kolory[-1]"
   ]
  },
  {
   "cell_type": "code",
   "execution_count": null,
   "metadata": {},
   "outputs": [],
   "source": [
    "kolory.index('blue')"
   ]
  },
  {
   "cell_type": "code",
   "execution_count": null,
   "metadata": {},
   "outputs": [],
   "source": [
    "kolory[1:]"
   ]
  },
  {
   "cell_type": "code",
   "execution_count": null,
   "metadata": {},
   "outputs": [],
   "source": [
    "kolory[-2:]  # -2 to drugi element od końca\n",
    "# ekwiwalentne do kolory[-2:len(kolory)]"
   ]
  },
  {
   "cell_type": "code",
   "execution_count": null,
   "metadata": {},
   "outputs": [],
   "source": [
    "# Możemy dodać element tablicy korzystając z dostępnej metody append\n",
    "kolory.append(\"black\")\n",
    "print(kolory)\n",
    "# Możemy również wstawić element w środek:\n",
    "kolory.insert(2, \"black\")\n",
    "print(kolory)\n",
    "# a nawet dodać listę jako element listy\n",
    "kolory.append([[255,255,0],[0,255,0]])\n",
    "print(kolory)\n",
    "# oraz rozszerzyć listę o wiele elementów jednocześnie\n",
    "kolory.extend(['navy', 'white'])\n",
    "print(kolory)\n",
    "# ewentualnie\n",
    "kolory = kolory + ['pink']\n",
    "print(kolory)"
   ]
  },
  {
   "cell_type": "code",
   "execution_count": null,
   "metadata": {},
   "outputs": [],
   "source": [
    "# Sprawdzić ile razy występuje jakiś element:\n",
    "print(\"Liczba wystąpień 'black':\", kolory.count(\"black\"))\n",
    "# Sprawdzić czy jakiś element występuje w zbiorze lub nie:\n",
    "print(\"Czy 'black' jest w liście kolorów?:\", \"black\" in kolory)\n",
    "print(\"Czy nie ma 'black' liście kolorów?:\", \"black\" not in kolory)"
   ]
  },
  {
   "cell_type": "code",
   "execution_count": null,
   "metadata": {},
   "outputs": [],
   "source": [
    "\"black\" not in kolory"
   ]
  },
  {
   "cell_type": "code",
   "execution_count": null,
   "metadata": {},
   "outputs": [],
   "source": [
    "# Istnieją dwa sposoby usuwania elementów\n",
    "liczby = [4, 5, 6]\n",
    "print(liczby)\n",
    "# Usunięcie pierwszego elementu, który będzie równy danej zawartości:\n",
    "liczby.remove(5)\n",
    "print(liczby)\n",
    "\n",
    "liczby = [4, 5, 6]\n",
    "# Usunięcie elementu korzystając z jego indeksu:\n",
    "liczby.pop(1)\n",
    "print(liczby)"
   ]
  },
  {
   "cell_type": "code",
   "execution_count": null,
   "metadata": {},
   "outputs": [],
   "source": [
    "list(reversed(liczby))"
   ]
  },
  {
   "cell_type": "code",
   "execution_count": null,
   "metadata": {},
   "outputs": [],
   "source": [
    "liczby = [4, 5, 6, 1]\n",
    "# Listy możemy również odwrócić:\n",
    "liczby.reverse()\n",
    "print(liczby)"
   ]
  },
  {
   "cell_type": "code",
   "execution_count": null,
   "metadata": {},
   "outputs": [],
   "source": [
    "#liczby = [4, 5, 6, 1]\n"
   ]
  },
  {
   "cell_type": "code",
   "execution_count": 50,
   "metadata": {},
   "outputs": [
    {
     "name": "stdout",
     "output_type": "stream",
     "text": [
      "['red', 'blue', 'green', 4, 5, 6]\n",
      "['red', 'blue', 'green', [4, 5, 6]]\n",
      "[['red', 'blue', 'green'], [4, 5, 6]]\n"
     ]
    }
   ],
   "source": [
    "kolory = [\"red\", \"blue\", \"green\"]\n",
    "liczby = [4, 5, 6]\n",
    "# Listy sa bardzo elastyczne. Możemy mieć na liście różne typy danych:\n",
    "lista_mieszana = kolory + liczby\n",
    "print(lista_mieszana)\n",
    "# Możemy mieć nawet listę list i inne kombinacje:\n",
    "lista_mieszana_a = list(kolory)\n",
    "lista_mieszana_a.append(liczby)\n",
    "print(lista_mieszana_a)\n",
    "lista_mieszana_b = []\n",
    "lista_mieszana_b.append(kolory)\n",
    "lista_mieszana_b.append(liczby)\n",
    "print(lista_mieszana_b)"
   ]
  },
  {
   "cell_type": "markdown",
   "metadata": {},
   "source": [
    "Naturalnie możliwe jest również sortowanie list. Co zrobić, żeby posortować listę w odwrotnej kolejności? Ustawmy kursor na słowie \"sort\" lub w środku nawiasu za \"sort\" i wciśnijmy Shift+Tab."
   ]
  },
  {
   "cell_type": "code",
   "execution_count": 51,
   "metadata": {},
   "outputs": [
    {
     "name": "stdout",
     "output_type": "stream",
     "text": [
      "[1, 4, 5, 7]\n",
      "Długość przed czyszczeniem 4\n",
      "[]\n"
     ]
    }
   ],
   "source": [
    "# Posortować:\n",
    "liczby = [4,5,7,1]\n",
    "liczby.sort()\n",
    "print(liczby)\n",
    "print(\"Długość przed czyszczeniem\", len(liczby))\n",
    "kolory.clear()\n",
    "print(kolory)"
   ]
  },
  {
   "cell_type": "markdown",
   "metadata": {},
   "source": [
    "### Zadanie"
   ]
  },
  {
   "cell_type": "markdown",
   "metadata": {},
   "source": [
    "1. Stwórz listę z elementami: 'car', 'bike', 'bus'\n",
    "2. Dodaj kolejny element: 'plane'\n",
    "3. Sprawdz, ile jest elementów w liście\n",
    "4. Sprawdz, czy 'ship' jest w liście\n",
    "5. Wyświetl 1. element listy (od lewej)\n"
   ]
  },
  {
   "cell_type": "markdown",
   "metadata": {},
   "source": [
    "Alternatywą dla list są tuple (krotki). Podstawową różnicą wobec list jest fakt, że są one niezmienialne (immutable). Nie można więc dodawać do nich elementów, usuwać elementów itd."
   ]
  },
  {
   "cell_type": "code",
   "execution_count": null,
   "metadata": {},
   "outputs": [],
   "source": [
    "kolory_tuple = ('black', 'blue', 'green', 'yellow')\n",
    "print(kolory_tuple)"
   ]
  },
  {
   "cell_type": "code",
   "execution_count": null,
   "metadata": {},
   "outputs": [],
   "source": [
    "kolory_tuple.append('red')  # nie zadziała"
   ]
  },
  {
   "cell_type": "code",
   "execution_count": 54,
   "metadata": {},
   "outputs": [
    {
     "name": "stdout",
     "output_type": "stream",
     "text": [
      "<class 'tuple'> 1\n",
      "<class 'str'>\n"
     ]
    }
   ],
   "source": [
    "kolory_czy_to_tuple = 'red',  # łatwo stworzyć tuple przypadkowo\n",
    "print(type(kolory_czy_to_tuple), len(kolory_czy_to_tuple))\n",
    "\n",
    "kolory_czy_to_tuple = ('red')  # i odwrotnie\n",
    "print(type(kolory_czy_to_tuple))"
   ]
  },
  {
   "cell_type": "code",
   "execution_count": 56,
   "metadata": {},
   "outputs": [
    {
     "name": "stdout",
     "output_type": "stream",
     "text": [
      "<class 'tuple'>\n"
     ]
    }
   ],
   "source": [
    "kolory_czy_to_tuple = ('red',)\n",
    "print(type(kolory_czy_to_tuple))"
   ]
  },
  {
   "cell_type": "code",
   "execution_count": null,
   "metadata": {},
   "outputs": [],
   "source": [
    "kolory_tuple.sort()  # nie zadziała"
   ]
  },
  {
   "cell_type": "code",
   "execution_count": null,
   "metadata": {},
   "outputs": [],
   "source": [
    "sorted_tuple = sorted(kolory_tuple)  # zwraca listę"
   ]
  },
  {
   "cell_type": "code",
   "execution_count": null,
   "metadata": {},
   "outputs": [],
   "source": [
    "sorted_tuple.append('test')\n",
    "sorted_tuple"
   ]
  },
  {
   "cell_type": "markdown",
   "metadata": {},
   "source": [
    "### Zbiory\n",
    "Zbiory są podobne do list. Zbiór można rozumieć na poziomie licealnej matematyki: każdy element jest unikalny."
   ]
  },
  {
   "cell_type": "code",
   "execution_count": null,
   "metadata": {},
   "outputs": [],
   "source": [
    "kolory1 = ['black', 'blue', 'green', 'yellow', 'green']\n",
    "kolory = set(kolory1)"
   ]
  },
  {
   "cell_type": "code",
   "execution_count": null,
   "metadata": {},
   "outputs": [],
   "source": [
    "kolory"
   ]
  },
  {
   "cell_type": "markdown",
   "metadata": {},
   "source": [
    "Zwróćmy uwagę na to, że zbiory wyświetlane są z innym nawiasem (\"{}\"). Nie możemy tworzyć nowych pustych zbiorów korzystając z tych nawiasów – tylko takie zawierające elementy."
   ]
  },
  {
   "cell_type": "code",
   "execution_count": null,
   "metadata": {},
   "outputs": [],
   "source": [
    "print(kolory1)\n",
    "print(kolory)"
   ]
  },
  {
   "cell_type": "code",
   "execution_count": null,
   "metadata": {},
   "outputs": [],
   "source": [
    "kolory2 = set()\n",
    "kolory2.add('green')\n",
    "kolory2.add('green')\n",
    "print(kolory2)\n",
    "kolory2.add('red')\n",
    "kolory2.remove('green')\n",
    "print(kolory2)\n",
    "kolory2.update({'orange', 'yellow'})\n",
    "print(kolory2)"
   ]
  },
  {
   "cell_type": "code",
   "execution_count": null,
   "metadata": {},
   "outputs": [],
   "source": [
    "print(kolory1)\n",
    "print(kolory2)"
   ]
  },
  {
   "cell_type": "code",
   "execution_count": null,
   "metadata": {},
   "outputs": [],
   "source": [
    "wspolne_kolory = set(kolory1) & set(kolory2)\n",
    "print(wspolne_kolory)\n",
    "niewspolne_kolory = set(kolory1) ^ set(kolory2)\n",
    "print(niewspolne_kolory)\n",
    "suma_kolorow = set(kolory1) | set(kolory2)\n",
    "print(suma_kolorow)"
   ]
  },
  {
   "cell_type": "code",
   "execution_count": null,
   "metadata": {},
   "outputs": [],
   "source": [
    "set(kolory1), set(kolory2)"
   ]
  },
  {
   "cell_type": "markdown",
   "metadata": {},
   "source": [
    "Naturalnie możemy też sprawdzać, czy zbiory się w sobie zawierają:"
   ]
  },
  {
   "cell_type": "code",
   "execution_count": null,
   "metadata": {},
   "outputs": [],
   "source": [
    "print(\"Czy kolory1 zawiera w całości kolory2?\", set(kolory1) > set(kolory2))\n",
    "print(\"Czy kolory1 zawiera w całości zbiór zawierający 'black' i 'blue'?\", set(kolory1) > set(['black', 'blue']))"
   ]
  },
  {
   "cell_type": "markdown",
   "metadata": {},
   "source": [
    "### Słownik\n",
    "\n",
    "Kolejną podstawową strukturą danych jest słownik. Do wersji 3.6 Pythona był bardziej podobny do zbioru, ponieważ nie zachowywał kolejności dodania elementów, obecnie – jak lista – zachowuje."
   ]
  },
  {
   "cell_type": "code",
   "execution_count": 57,
   "metadata": {},
   "outputs": [
    {
     "name": "stdout",
     "output_type": "stream",
     "text": [
      "{'imie': 'Matuzalem', 'nazwisko': 'Henochowicz', 'wiek': 969}\n",
      "{'imie': 'Matuzalem', 'nazwisko': 'Henochowicz', 'wiek': 969, 'dzieci': ['Lamech']}\n",
      "{'imie': 'Matuzalem', 'nazwisko': 'Henochowicz', 'wiek': 969, 'dzieci': ['Lamech'], 1: 'test'}\n",
      "{'imie': 'Matuzalem', 'nazwisko': 'Henochowicz', 'dzieci': ['Lamech'], 1: 'test'}\n"
     ]
    }
   ],
   "source": [
    "stary_czlowiek = {'imie': 'Matuzalem', 'nazwisko': 'Henochowicz', 'wiek': 969}\n",
    "print(stary_czlowiek)\n",
    "# dodawanie elementów to po prostu definiowanie wartości dla klucza\n",
    "stary_czlowiek['dzieci'] = ['Lamech']\n",
    "print(stary_czlowiek)\n",
    "# kluczem może być też liczba, nie tylko string.\n",
    "stary_czlowiek[1] = 'test'\n",
    "print(stary_czlowiek)\n",
    "# możemy również usunąć pojedynczy element słownika:\n",
    "del stary_czlowiek[\"wiek\"]\n",
    "print(stary_czlowiek)"
   ]
  },
  {
   "cell_type": "code",
   "execution_count": 58,
   "metadata": {},
   "outputs": [
    {
     "name": "stdout",
     "output_type": "stream",
     "text": [
      "{'imie': 'Matuzalem', 'nazwisko': 'Henochowicz', 'dzieci': ['Lamech'], 1: 'test', 'wiek': 969}\n"
     ]
    }
   ],
   "source": [
    "# Podobnie jak w przypadku zbiorów możemy łączyć/aktualizować ze sobą dwa słowniki\n",
    "wiek = {'wiek': 969}\n",
    "stary_czlowiek.update(wiek)\n",
    "print(stary_czlowiek)"
   ]
  },
  {
   "cell_type": "code",
   "execution_count": 59,
   "metadata": {},
   "outputs": [
    {
     "ename": "KeyError",
     "evalue": "'pseudonim'",
     "output_type": "error",
     "traceback": [
      "\u001b[0;31m---------------------------------------------------------------------------\u001b[0m",
      "\u001b[0;31mKeyError\u001b[0m                                  Traceback (most recent call last)",
      "\u001b[0;32m<ipython-input-59-30c8344bc627>\u001b[0m in \u001b[0;36m<module>\u001b[0;34m\u001b[0m\n\u001b[0;32m----> 1\u001b[0;31m \u001b[0mstary_czlowiek\u001b[0m\u001b[0;34m[\u001b[0m\u001b[0;34m'pseudonim'\u001b[0m\u001b[0;34m]\u001b[0m\u001b[0;34m\u001b[0m\u001b[0;34m\u001b[0m\u001b[0m\n\u001b[0m",
      "\u001b[0;31mKeyError\u001b[0m: 'pseudonim'"
     ]
    }
   ],
   "source": [
    "stary_czlowiek['pseudonim']"
   ]
  },
  {
   "cell_type": "code",
   "execution_count": 60,
   "metadata": {},
   "outputs": [
    {
     "name": "stdout",
     "output_type": "stream",
     "text": [
      "Matuzalem None\n"
     ]
    }
   ],
   "source": [
    "print(stary_czlowiek.get('imie'), stary_czlowiek.get('pseudonim'))  # gdy nie jesteśmy pewni czy istnieje"
   ]
  },
  {
   "cell_type": "markdown",
   "metadata": {},
   "source": [
    "Czasem możemy chcieć wypisać elementy słownika parami (klucz/wartość)"
   ]
  },
  {
   "cell_type": "code",
   "execution_count": 61,
   "metadata": {},
   "outputs": [
    {
     "name": "stdout",
     "output_type": "stream",
     "text": [
      "dict_items([('imie', 'Matuzalem'), ('nazwisko', 'Henochowicz'), ('dzieci', ['Lamech']), (1, 'test'), ('wiek', 969)])\n"
     ]
    }
   ],
   "source": [
    "print(stary_czlowiek.items())"
   ]
  },
  {
   "cell_type": "code",
   "execution_count": 62,
   "metadata": {},
   "outputs": [
    {
     "name": "stdout",
     "output_type": "stream",
     "text": [
      "dict_keys(['imie', 'nazwisko', 'dzieci', 1, 'wiek'])\n"
     ]
    }
   ],
   "source": [
    "print(stary_czlowiek.keys())"
   ]
  },
  {
   "cell_type": "code",
   "execution_count": 64,
   "metadata": {},
   "outputs": [],
   "source": [
    "mlody_czlowiek = {'imie': 'Lamech', 'nazwisko': 'Henochowicz', 'pseudonim': 'Lamek'}"
   ]
  },
  {
   "cell_type": "markdown",
   "metadata": {},
   "source": [
    "**Zadanie: znajdź wspólne klucze w słownikach `mlody_czlowiek` i `stary_czlowiek`.**"
   ]
  },
  {
   "cell_type": "code",
   "execution_count": 65,
   "metadata": {},
   "outputs": [
    {
     "name": "stdout",
     "output_type": "stream",
     "text": [
      "dict_keys(['imie', 'nazwisko', 'dzieci', 1, 'wiek'])\n",
      "dict_keys(['imie', 'nazwisko', 'pseudonim'])\n"
     ]
    }
   ],
   "source": [
    "print(stary_czlowiek.keys())\n",
    "print(mlody_czlowiek.keys())"
   ]
  },
  {
   "cell_type": "code",
   "execution_count": 66,
   "metadata": {},
   "outputs": [
    {
     "data": {
      "text/plain": [
       "{'imie', 'nazwisko'}"
      ]
     },
     "execution_count": 66,
     "metadata": {},
     "output_type": "execute_result"
    }
   ],
   "source": [
    "stary_czlowiek.keys() & mlody_czlowiek.keys()"
   ]
  },
  {
   "cell_type": "code",
   "execution_count": null,
   "metadata": {},
   "outputs": [],
   "source": []
  },
  {
   "cell_type": "markdown",
   "metadata": {},
   "source": []
  }
 ],
 "metadata": {
  "kernelspec": {
   "display_name": "Python 3",
   "language": "python",
   "name": "python3"
  },
  "language_info": {
   "codemirror_mode": {
    "name": "ipython",
    "version": 3
   },
   "file_extension": ".py",
   "mimetype": "text/x-python",
   "name": "python",
   "nbconvert_exporter": "python",
   "pygments_lexer": "ipython3",
   "version": "3.7.1"
  }
 },
 "nbformat": 4,
 "nbformat_minor": 4
}
