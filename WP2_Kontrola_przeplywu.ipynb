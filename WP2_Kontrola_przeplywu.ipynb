{
 "cells": [
  {
   "cell_type": "markdown",
   "metadata": {},
   "source": [
    "## Kontrola przepływu\n"
   ]
  },
  {
   "cell_type": "markdown",
   "metadata": {},
   "source": [
    "Kod w Pythonie jest grupowany wcięciami. Blok kodu oddzielany jest czterema spacjami (albo dwoma spacjami, albo tabulatorem). Nie ma nawiasów klamrowych ani średnika.\n",
    "\n",
    "Aby programy, które tworzymy, były rzeczywiście przydatne, potrzebujemy móc kontrolować, co zrobić następnie w zależności od obecnego stanu. \n",
    " \n",
    "\n"
   ]
  },
  {
   "cell_type": "markdown",
   "metadata": {},
   "source": [
    "### Warunki\n",
    "\n",
    "#### If - else\n"
   ]
  },
  {
   "cell_type": "code",
   "execution_count": 2,
   "metadata": {},
   "outputs": [
    {
     "name": "stdout",
     "output_type": "stream",
     "text": [
      "Whee!\n"
     ]
    }
   ],
   "source": [
    "disaster = False\n",
    "if disaster:\n",
    "    print(\"Woe!\")\n",
    "else:\n",
    "    print(\"Whee!\")"
   ]
  },
  {
   "cell_type": "markdown",
   "metadata": {},
   "source": [
    "#### Warunek wewnątrz warunku:"
   ]
  },
  {
   "cell_type": "code",
   "execution_count": 3,
   "metadata": {},
   "outputs": [
    {
     "name": "stdout",
     "output_type": "stream",
     "text": [
      "It's a cat.\n"
     ]
    }
   ],
   "source": [
    "furry = True\n",
    "small = True\n",
    "\n",
    "if furry:\n",
    "    if small:\n",
    "        print(\"It's a cat.\") \n",
    "\n",
    "    else:\n",
    "        print(\"It's a bear!\") \n",
    "else:\n",
    "    if small:\n",
    "        print(\"It's a skunk!\") \n",
    "    else:\n",
    "        print(\"It's a human. Or a hairless bear.\")"
   ]
  },
  {
   "cell_type": "markdown",
   "metadata": {},
   "source": [
    "#### Jeżeli mamy więcej możliwości niż 2, stosujemy elif"
   ]
  },
  {
   "cell_type": "code",
   "execution_count": 182,
   "metadata": {},
   "outputs": [
    {
     "name": "stdout",
     "output_type": "stream",
     "text": [
      "a większe od b\n",
      "wykona się zawsze\n"
     ]
    }
   ],
   "source": [
    "a = 6\n",
    "b = 4\n",
    "\n",
    "if a < b:\n",
    "    print('a mniejsze od b')\n",
    "elif a > b:\n",
    "    print('a większe od b')\n",
    "else:\n",
    "    print('a równe b')\n",
    "print('wykona się zawsze')"
   ]
  },
  {
   "cell_type": "markdown",
   "metadata": {},
   "source": [
    "`if` sprawdza, czy warunek jest spełniony. Jeśli jest, wykonuje się blok kodu, który jest za wcięciem. W przeciwnym razie przechodzi do warunku w elif, i kolejnym elif, itd. aż do warunku, który jest spełniony. Jeśli żaden z warunków nie jest spełniony, wykonuje się blok kodu w else. \n"
   ]
  },
  {
   "cell_type": "code",
   "execution_count": 138,
   "metadata": {},
   "outputs": [
    {
     "name": "stdout",
     "output_type": "stream",
     "text": [
      "Wartość poniżej 4\n"
     ]
    }
   ],
   "source": [
    "x = 2\n",
    "if x<2:\n",
    "    print(\"Wartość poniżej 2\")\n",
    "elif x<4:\n",
    "    print(\"Wartość poniżej 4\")\n",
    "elif x<6:\n",
    "    print(\"Wartość poniżej 6\")\n",
    "else:\n",
    "    print(\"Wartość równa lub powyżej 6\")"
   ]
  },
  {
   "cell_type": "code",
   "execution_count": 139,
   "metadata": {},
   "outputs": [
    {
     "name": "stdout",
     "output_type": "stream",
     "text": [
      "a nie mniejsze od 3, ale mniejsze od b\n"
     ]
    }
   ],
   "source": [
    "a = 3\n",
    "b = 4\n",
    "if a < b and a < 3:\n",
    "    print('a mniejsze od 3 i od b')\n",
    "elif a < b:\n",
    "    print('a nie mniejsze od 3, ale mniejsze od b')\n",
    "else:\n",
    "    print('a nie mniejsze od b')"
   ]
  },
  {
   "cell_type": "code",
   "execution_count": 140,
   "metadata": {},
   "outputs": [
    {
     "name": "stdout",
     "output_type": "stream",
     "text": [
      "ten sam typ\n",
      "a nie jest mniejsze od b\n"
     ]
    }
   ],
   "source": [
    "a = 5\n",
    "b = 4\n",
    "\n",
    "if type(a) == type(b):\n",
    "    print('ten sam typ')\n",
    "\n",
    "if a < b:\n",
    "    print('a mniejsze od b')\n",
    "else:\n",
    "    print('a nie jest mniejsze od b')"
   ]
  },
  {
   "cell_type": "markdown",
   "metadata": {},
   "source": [
    "Zauważmy, że w linijkach 4-5 jest inny `if` niż w 7-10. 7-10 wykonuje się niezależnie od tego, czy warunek z linijki 4 jest spełniony, czy nie. \n"
   ]
  },
  {
   "cell_type": "markdown",
   "metadata": {},
   "source": [
    "### Zadanie\n",
    "\n",
    "Musicie ocenić wyniki kartkówki, z następującymi regułami:\n",
    "\n",
    "- Wynik poniżej 5 punktów: nie zaliczony, \"NZ\"\n",
    "- Wynik od 5 punktów: zaliczony \"Z\"\n",
    "\n",
    "\n",
    "Napisz kod który wyświetli oceny, i przetestuj dla wyników: 3 oraz 5\n",
    "\n",
    "Modyfikuj kod uwzględniając sytuację, kiedy wynik wyniesie 10 punktów: \"Z!\"\n",
    "\n",
    "\n",
    "\n"
   ]
  },
  {
   "cell_type": "markdown",
   "metadata": {},
   "source": [
    "### Pętle\n",
    "\n",
    "#### For\n",
    "\n",
    "Gdy mamy ten sam kawałek kodu do wykonania dla wielu elementów, z pomocą przychodzą pętle.\n",
    "\n",
    "\n",
    "`for` to jedna z pętli. Dla każdego elementu wykonuje cały blok kodu w środku. Ponieważ *iterables* (wszystkie obiekty, po których można iterować; wszystkie które obecnie znamy takie są) są skończone, pętla for kiedyś na pewno się skończy. \n",
    "\n",
    "Często pętli `for` używamy razem z funkcją `range`. Funkcja range zwraca (gdy od niej zażądamy wartości, na szczęście nie przechowuje wszystkiego w pamięci) wartości z danego zakresu w formie: (początek, koniec, przeskok).\n"
   ]
  },
  {
   "cell_type": "code",
   "execution_count": 142,
   "metadata": {},
   "outputs": [
    {
     "name": "stdout",
     "output_type": "stream",
     "text": [
      "liczba 3\n",
      "liczba 5\n",
      "liczba 4\n"
     ]
    }
   ],
   "source": [
    "for x in [3, 5, 4]:\n",
    "    print('liczba', x)"
   ]
  },
  {
   "cell_type": "code",
   "execution_count": 143,
   "metadata": {},
   "outputs": [
    {
     "name": "stdout",
     "output_type": "stream",
     "text": [
      "red\n",
      "blue\n",
      "green\n"
     ]
    }
   ],
   "source": [
    "kolory = [\"red\", \"blue\", \"green\"]\n",
    "for kolor in kolory:\n",
    "    print(kolor)"
   ]
  },
  {
   "cell_type": "code",
   "execution_count": 144,
   "metadata": {},
   "outputs": [
    {
     "name": "stdout",
     "output_type": "stream",
     "text": [
      "range(0, 4)\n",
      "Wyświetlmy wszystkie elementy range(4): \n",
      "0\n",
      "1\n",
      "2\n",
      "3\n",
      "Wyświetlmy wszystkie elementy range(2, 10, 2): \n",
      "2\n",
      "4\n",
      "6\n",
      "8\n",
      "Wyświetlmy wszystkie elementy range(0, -11, -3): \n",
      "0\n",
      "-3\n",
      "-6\n",
      "-9\n"
     ]
    }
   ],
   "source": [
    "# Kiedy będziemy chcieli wyświetlić zakres liczb, dostaniemy \"dziwny\" wynik:\n",
    "print(range(4))\n",
    "# Output: \"range(0, 4)\" informuje nas o tym, jaki iterator został stworzony, a nie o wszystkich jego elementach.\n",
    "print(\"Wyświetlmy wszystkie elementy range(4): \")\n",
    "for i in range(4):\n",
    "    print(i)\n",
    "# Zobaczmy dwa inne przykłady:\n",
    "print(\"Wyświetlmy wszystkie elementy range(2, 10, 2): \")\n",
    "for i in range(2, 10, 2):\n",
    "    print(i)\n",
    "\n",
    "print(\"Wyświetlmy wszystkie elementy range(0, -11, -3): \")\n",
    "for i in range(0, -11, -3):\n",
    "    print(i)"
   ]
  },
  {
   "cell_type": "code",
   "execution_count": 145,
   "metadata": {},
   "outputs": [
    {
     "name": "stdout",
     "output_type": "stream",
     "text": [
      "hello world 0\n",
      "hello world 1\n",
      "hello world 2\n",
      "hello world 3\n",
      "hello world 4\n"
     ]
    }
   ],
   "source": [
    "for i in range(0,5):\n",
    "    print('hello world', i)"
   ]
  },
  {
   "cell_type": "code",
   "execution_count": 146,
   "metadata": {},
   "outputs": [
    {
     "name": "stdout",
     "output_type": "stream",
     "text": [
      "<class 'list'>\n",
      "<class 'tuple'>\n",
      "(3, 4)\n",
      "<class 'tuple'>\n",
      "(4, 3)\n",
      "<class 'tuple'>\n",
      "(5, 5)\n"
     ]
    }
   ],
   "source": [
    "print(type([(3,4), (4,3), (5,5)]))\n",
    "for i in [(3,4), (4,3), (5,5)]:\n",
    "    print(type(i))\n",
    "    print(i)"
   ]
  },
  {
   "cell_type": "code",
   "execution_count": 147,
   "metadata": {},
   "outputs": [
    {
     "name": "stdout",
     "output_type": "stream",
     "text": [
      "a 3 -- b: 4\n",
      "a mniejsze od b\n",
      "a równe b\n",
      "a 4 -- b: 3\n",
      "a większe od b\n",
      "a 5 -- b: 5\n",
      "a równe b\n"
     ]
    }
   ],
   "source": [
    "for (a, b) in [(3,4), (4,3), (5,5)]:\n",
    "    print('a', a, '-- b:', b)\n",
    "    if a < b:\n",
    "        print('a mniejsze od b')\n",
    "    if a > b:\n",
    "        print('a większe od b')\n",
    "    else:\n",
    "        print('a równe b')"
   ]
  },
  {
   "cell_type": "markdown",
   "metadata": {},
   "source": [
    "#### Zadanie\n",
    "\n",
    "Wróć do kodu oceniającego kartkówki i korzystając z pętli wyświetl ocen dla następnych punktów: 3, 5, 10"
   ]
  },
  {
   "cell_type": "markdown",
   "metadata": {},
   "source": [
    "#### While"
   ]
  },
  {
   "cell_type": "markdown",
   "metadata": {},
   "source": [
    "Często potrzebujemy wykonywać jakąś operację kilka razy: do tego służy `while`, która aby zakończyć wykonywanie, potrzebuje instrukcji `break` albo niespełnienia warunku. Na przykład `while True:` będzie wykonywało się w nieskończoność, ponieważ warunek True jest zawsze spełniony. (kolejny powód, aby używać IDE na pewnym etapie projektu: Jupyter pozwoli wam wykonać pętlę nieskończoną, dobre IDE ostrzeże o tym)"
   ]
  },
  {
   "cell_type": "code",
   "execution_count": 12,
   "metadata": {},
   "outputs": [
    {
     "name": "stdout",
     "output_type": "stream",
     "text": [
      "1\n",
      "3\n",
      "5\n",
      "7\n",
      "9\n"
     ]
    }
   ],
   "source": [
    "j = 1\n",
    "while j < 10:\n",
    "    print(j)\n",
    "    j += 2"
   ]
  },
  {
   "cell_type": "code",
   "execution_count": 149,
   "metadata": {},
   "outputs": [
    {
     "name": "stdout",
     "output_type": "stream",
     "text": [
      "5\n",
      "15\n"
     ]
    }
   ],
   "source": [
    "k = 5\n",
    "while k < 20:\n",
    "    print(k)\n",
    "    k += 10"
   ]
  },
  {
   "cell_type": "code",
   "execution_count": 150,
   "metadata": {},
   "outputs": [
    {
     "name": "stdout",
     "output_type": "stream",
     "text": [
      "15\n",
      "25\n"
     ]
    }
   ],
   "source": [
    "k = 5\n",
    "while True:\n",
    "    k += 10\n",
    "    print(k)\n",
    "    if k > 20:\n",
    "        break"
   ]
  },
  {
   "cell_type": "markdown",
   "metadata": {},
   "source": [
    "Typowym zastosowaniem `while` jest oczekiwanie na input użytkownika – od najprostszej wersji (wpisz q aby zakończyć, s aby zapisać...) po zaawansowane, np. gry.\n",
    "\n",
    "Oprócz `break`, istotnym słowem kluczowym jest `continue`. Dzięki niemu przestajemy wykonywać daną iterację pętli i przeskakujemy do następnej. Typowym użyciem jest wczytywanie wszystkich plików .csv w katalogu, w którym znajdują się również pliki .txt lub .lock. `break` możemu użyć również w pętli `for`.\n",
    "\n",
    "Zmienne iteracyjne pozostają w środowisku i możemy ich dalej używać.\n",
    "\n",
    "Pętle mogą się też kończyć warunkiem `else`, który wykonuje się po *łagodnym* zakończeniu pętli, czyli po niespełnionym warunku w przypadku `while` lub końcu iterable'a w przypadku `for`. Nie wykonuje się on jednak, jeśli pętla została zakończona *brutalnie*, przez `break`."
   ]
  },
  {
   "cell_type": "code",
   "execution_count": 14,
   "metadata": {},
   "outputs": [
    {
     "name": "stdin",
     "output_type": "stream",
     "text": [
      "String to capitalize [type q to quit]:  q\n"
     ]
    }
   ],
   "source": [
    "while True:\n",
    "    stuff = input(\"String to capitalize [type q to quit]: \") \n",
    "    if stuff == \"q\":\n",
    "        break \n",
    "    print(stuff.capitalize())"
   ]
  },
  {
   "cell_type": "code",
   "execution_count": 157,
   "metadata": {},
   "outputs": [
    {
     "name": "stdout",
     "output_type": "stream",
     "text": [
      "1\n",
      "2\n",
      "4\n",
      "5\n",
      "7\n",
      "8\n",
      "10\n"
     ]
    }
   ],
   "source": [
    "for i in range(11):\n",
    "    if i % 3 == 0:\n",
    "        continue\n",
    "    print(i)"
   ]
  },
  {
   "cell_type": "code",
   "execution_count": 158,
   "metadata": {},
   "outputs": [
    {
     "name": "stdout",
     "output_type": "stream",
     "text": [
      "2\n",
      "3\n",
      "4\n",
      "pętla się skończyła inaczej niż przez break\n",
      "\n",
      "---\n",
      "\n",
      "2\n",
      "3\n"
     ]
    }
   ],
   "source": [
    "for i in range(2, 5):\n",
    "    print(i)\n",
    "else:\n",
    "    print('pętla się skończyła inaczej niż przez break')\n",
    "    \n",
    "print('\\n---\\n')\n",
    "    \n",
    "for i in range(2, 5):\n",
    "    print(i)\n",
    "    if i == 3:\n",
    "        break\n",
    "else:\n",
    "    print('pętla się skończyła inaczej niż przez break')"
   ]
  },
  {
   "cell_type": "markdown",
   "metadata": {},
   "source": [
    "#### Zadanie\n",
    "\n",
    "1. Wyświetl liczby od 0 do 5 za pomocą pętli z while\n",
    "2. Wyświetl liczby od 1 do 10, w wyjątkiem liczb parzystych\n"
   ]
  },
  {
   "cell_type": "code",
   "execution_count": null,
   "metadata": {},
   "outputs": [],
   "source": []
  },
  {
   "cell_type": "markdown",
   "metadata": {},
   "source": [
    "### Zip i enumerate"
   ]
  },
  {
   "cell_type": "markdown",
   "metadata": {},
   "source": [
    "Przydatne funkcje to zip i enumerate. `zip` połączy dwie listy, dzięki czemu możemy iterować po ich kolejnych elementach jednocześnie. Jeśli listy nie są równej długości, to **bez ostrzeżenia** funkcja wykona się, pomijając końcowe elementy z dłuższej listy!\n",
    "\n",
    "`enumerate` za to z elementów listy robi dwuelementowe tuple, gdzie pierwszy element to indeks listy."
   ]
  },
  {
   "cell_type": "code",
   "execution_count": 159,
   "metadata": {},
   "outputs": [],
   "source": [
    "zwierzeta = ['dog', 'pig', 'eagle', 'dog']\n",
    "samochody = ['audi', 'bmw', 'lamborghini', 'ferrari', 'mercedes']"
   ]
  },
  {
   "cell_type": "code",
   "execution_count": 160,
   "metadata": {},
   "outputs": [
    {
     "name": "stdout",
     "output_type": "stream",
     "text": [
      "dog audi\n",
      "pig bmw\n",
      "eagle lamborghini\n",
      "dog ferrari\n"
     ]
    }
   ],
   "source": [
    "for animal, car in zip(zwierzeta, samochody):\n",
    "    print(animal, car)"
   ]
  },
  {
   "cell_type": "code",
   "execution_count": 161,
   "metadata": {},
   "outputs": [
    {
     "name": "stdout",
     "output_type": "stream",
     "text": [
      "[('Monday', 'Lundi'), ('Tuesday', 'Mardi'), ('Wednesday', 'Mercredi')]\n"
     ]
    },
    {
     "data": {
      "text/plain": [
       "{'Monday': 'Lundi', 'Tuesday': 'Mardi', 'Wednesday': 'Mercredi'}"
      ]
     },
     "execution_count": 161,
     "metadata": {},
     "output_type": "execute_result"
    }
   ],
   "source": [
    "english = 'Monday', 'Tuesday', 'Wednesday'\n",
    "french = 'Lundi', 'Mardi', 'Mercredi'\n",
    "print(list( zip(english, french) ))\n",
    "dict( zip(english, french) )"
   ]
  },
  {
   "cell_type": "code",
   "execution_count": 162,
   "metadata": {},
   "outputs": [
    {
     "data": {
      "text/plain": [
       "{'audi': 'dog', 'bmw': 'pig', 'lamborghini': 'eagle', 'ferrari': 'dog'}"
      ]
     },
     "execution_count": 162,
     "metadata": {},
     "output_type": "execute_result"
    }
   ],
   "source": [
    "dict(zip(samochody, zwierzeta))"
   ]
  },
  {
   "cell_type": "code",
   "execution_count": 163,
   "metadata": {},
   "outputs": [
    {
     "name": "stdout",
     "output_type": "stream",
     "text": [
      "0 dog\n",
      "3 dog\n"
     ]
    }
   ],
   "source": [
    "for i, animal in enumerate(zwierzeta):\n",
    "    if animal == 'dog':\n",
    "        print(i, animal)"
   ]
  },
  {
   "cell_type": "markdown",
   "metadata": {},
   "source": [
    "### List comprehension"
   ]
  },
  {
   "cell_type": "markdown",
   "metadata": {},
   "source": [
    "## List Comprehensions\n",
    "Wykonywanie operacji/funkcji na wszystkich elementach list jest tak często wykorzystywane, że w pythonie jest do tego celu specjalna instrukcja/składnia (List Comprehensions), której celem jest stworzenie listy na podstawie już istniejącej. Jest to jednoliniowy for, któy ma następującą składnię:\n",
    "\n",
    "[co_zrobić(x) for x in jakas_lista opcjonalny_test_logiczny]\n",
    "\n",
    "Przykładowo:"
   ]
  },
  {
   "cell_type": "code",
   "execution_count": 23,
   "metadata": {},
   "outputs": [
    {
     "name": "stdout",
     "output_type": "stream",
     "text": [
      "[1, 2, 3, 4, 5]\n"
     ]
    }
   ],
   "source": [
    "number_list = []\n",
    "for number in range(1, 6): \n",
    "    number_list.append(number) \n",
    "print(number_list)"
   ]
  },
  {
   "cell_type": "code",
   "execution_count": 174,
   "metadata": {},
   "outputs": [
    {
     "name": "stdout",
     "output_type": "stream",
     "text": [
      "[1, 2, 3, 4, 5]\n"
     ]
    }
   ],
   "source": [
    "number_list = [number for number in range(1,6)]\n",
    "print(number_list)"
   ]
  },
  {
   "cell_type": "code",
   "execution_count": 175,
   "metadata": {},
   "outputs": [
    {
     "name": "stdout",
     "output_type": "stream",
     "text": [
      "[0, 1, 4, 9, 16]\n",
      "[0, 4, 16]\n",
      "[0, 4, 12, 24, 40]\n"
     ]
    }
   ],
   "source": [
    "lista1 = list(range(5))\n",
    "print([x**2 for x in lista1])\n",
    "# Możemy wykonać tę operację np tylko dla liczb parzystych.\n",
    "print([x**2 for x in lista1 if x%2==0])\n",
    "# Nasza operacja może być więcej niż jednoargumentowa\n",
    "lista2 = list(range(2,12,2))\n",
    "print([x*y for (x,y) in zip(lista1,lista2)])"
   ]
  },
  {
   "cell_type": "markdown",
   "metadata": {},
   "source": [
    "#### Zadanie\n",
    "Stwórz listę z liczbami 0 do 10. Używając list comprehension:\n",
    "- dodaj do każdego elementu 2\n",
    "- bierz te elementy które są większe od 5 i dziel je przez 3\n",
    "\n",
    "\n"
   ]
  }
 ],
 "metadata": {
  "kernelspec": {
   "display_name": "Python 3",
   "language": "python",
   "name": "python3"
  },
  "language_info": {
   "codemirror_mode": {
    "name": "ipython",
    "version": 3
   },
   "file_extension": ".py",
   "mimetype": "text/x-python",
   "name": "python",
   "nbconvert_exporter": "python",
   "pygments_lexer": "ipython3",
   "version": "3.7.1"
  }
 },
 "nbformat": 4,
 "nbformat_minor": 4
}
