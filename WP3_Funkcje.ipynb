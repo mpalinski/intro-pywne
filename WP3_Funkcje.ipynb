{
 "cells": [
  {
   "cell_type": "markdown",
   "metadata": {},
   "source": [
    "# Funkcje\n",
    "\n",
    "Pisanie prostych funkcji, na potrzeby organizacji kodu i unikania dublowania niepotrzbnej pracy, to chleb powszedni przy analizie danych. \n",
    "\n",
    "Zdefiniujmy najprostszą możliwą funkcję:\n",
    "\n"
   ]
  },
  {
   "cell_type": "code",
   "execution_count": 72,
   "metadata": {},
   "outputs": [],
   "source": [
    "def do_nothing():\n",
    "    pass"
   ]
  },
  {
   "cell_type": "code",
   "execution_count": 73,
   "metadata": {},
   "outputs": [],
   "source": [
    "do_nothing()"
   ]
  },
  {
   "cell_type": "markdown",
   "metadata": {},
   "source": [
    "Do funkcji możemy dodać dokumentację:"
   ]
  },
  {
   "cell_type": "code",
   "execution_count": 1,
   "metadata": {},
   "outputs": [],
   "source": [
    "def do_nothing():\n",
    "    '''Function to do nothing'''\n",
    "    pass\n"
   ]
  },
  {
   "cell_type": "code",
   "execution_count": 86,
   "metadata": {},
   "outputs": [
    {
     "data": {
      "text/plain": [
       "'Function to do nothing'"
      ]
     },
     "execution_count": 86,
     "metadata": {},
     "output_type": "execute_result"
    }
   ],
   "source": [
    "do_nothing.__doc__"
   ]
  },
  {
   "cell_type": "code",
   "execution_count": null,
   "metadata": {},
   "outputs": [],
   "source": []
  },
  {
   "cell_type": "code",
   "execution_count": 87,
   "metadata": {},
   "outputs": [
    {
     "name": "stdout",
     "output_type": "stream",
     "text": [
      "quack\n"
     ]
    }
   ],
   "source": [
    "def make_a_sound(): \n",
    "    print('quack')\n",
    "    \n",
    "make_a_sound()"
   ]
  },
  {
   "cell_type": "markdown",
   "metadata": {},
   "source": [
    "### Argumenty"
   ]
  },
  {
   "cell_type": "code",
   "execution_count": 90,
   "metadata": {},
   "outputs": [
    {
     "data": {
      "text/plain": [
       "'cool cool'"
      ]
     },
     "execution_count": 90,
     "metadata": {},
     "output_type": "execute_result"
    }
   ],
   "source": [
    "def echo(anything):\n",
    "    return anything + ' ' + anything\n",
    "echo('cool')"
   ]
  },
  {
   "cell_type": "code",
   "execution_count": 91,
   "metadata": {},
   "outputs": [],
   "source": [
    "def commentary(color):\n",
    "\n",
    "    if color == 'red':\n",
    "        return \"It's a tomato.\"\n",
    "    elif color == \"green\":\n",
    "        return \"It's a green pepper.\" \n",
    "    elif color == 'bee purple':\n",
    "        return \"I don't know what it is, but only bees can see it.\" \n",
    "    else:\n",
    "        return \"I've never heard of the color \" + color + \".\"\n",
    "        "
   ]
  },
  {
   "cell_type": "code",
   "execution_count": 92,
   "metadata": {},
   "outputs": [
    {
     "data": {
      "text/plain": [
       "\"I've never heard of the color blue.\""
      ]
     },
     "execution_count": 92,
     "metadata": {},
     "output_type": "execute_result"
    }
   ],
   "source": [
    "commentary('blue')"
   ]
  },
  {
   "cell_type": "code",
   "execution_count": 93,
   "metadata": {},
   "outputs": [
    {
     "data": {
      "text/plain": [
       "\"I've never heard of the color what.\""
      ]
     },
     "execution_count": 93,
     "metadata": {},
     "output_type": "execute_result"
    }
   ],
   "source": [
    "commentary('what')"
   ]
  },
  {
   "cell_type": "markdown",
   "metadata": {},
   "source": [
    "Możemy mieć więcej argumentów:"
   ]
  },
  {
   "cell_type": "code",
   "execution_count": 8,
   "metadata": {},
   "outputs": [
    {
     "data": {
      "text/plain": [
       "{'wine': 'chardonnay', 'entree': 'chicken', 'dessert': 'cake'}"
      ]
     },
     "execution_count": 8,
     "metadata": {},
     "output_type": "execute_result"
    }
   ],
   "source": [
    "def menu(wine, entree, dessert):\n",
    "    return {'wine': wine, 'entree': entree, 'dessert': dessert}\n",
    "menu('chardonnay', 'chicken', 'cake')\n"
   ]
  },
  {
   "cell_type": "code",
   "execution_count": 95,
   "metadata": {},
   "outputs": [
    {
     "data": {
      "text/plain": [
       "{'wine': 'beef', 'entree': 'bagel', 'dessert': 'bordeaux'}"
      ]
     },
     "execution_count": 95,
     "metadata": {},
     "output_type": "execute_result"
    }
   ],
   "source": [
    "menu('beef', 'bagel', 'bordeaux')"
   ]
  },
  {
   "cell_type": "markdown",
   "metadata": {},
   "source": [
    "#### Argumenty kluczowe"
   ]
  },
  {
   "cell_type": "code",
   "execution_count": 9,
   "metadata": {},
   "outputs": [
    {
     "data": {
      "text/plain": [
       "{'wine': 'bordeaux', 'entree': 'beef', 'dessert': 'bagel'}"
      ]
     },
     "execution_count": 9,
     "metadata": {},
     "output_type": "execute_result"
    }
   ],
   "source": [
    "menu(entree='beef', dessert='bagel', wine='bordeaux')"
   ]
  },
  {
   "cell_type": "code",
   "execution_count": 16,
   "metadata": {},
   "outputs": [
    {
     "data": {
      "text/plain": [
       "{'wine': 'frontenac', 'entree': 'fish', 'dessert': 'flan'}"
      ]
     },
     "execution_count": 16,
     "metadata": {},
     "output_type": "execute_result"
    }
   ],
   "source": [
    "menu('frontenac', dessert='flan', entree='fish')"
   ]
  },
  {
   "cell_type": "markdown",
   "metadata": {},
   "source": [
    "#### Domyślne wartości argumentów"
   ]
  },
  {
   "cell_type": "code",
   "execution_count": 17,
   "metadata": {},
   "outputs": [],
   "source": [
    "def menu(wine, entree, dessert='pudding'):\n",
    "    return {'wine': wine, 'entree': entree, 'dessert': dessert}"
   ]
  },
  {
   "cell_type": "code",
   "execution_count": 20,
   "metadata": {},
   "outputs": [
    {
     "data": {
      "text/plain": [
       "{'wine': 'chardonnay', 'entree': 'chicken', 'dessert': 'pudding'}"
      ]
     },
     "execution_count": 20,
     "metadata": {},
     "output_type": "execute_result"
    }
   ],
   "source": [
    "menu('chardonnay', 'chicken')"
   ]
  },
  {
   "cell_type": "markdown",
   "metadata": {},
   "source": [
    "Przykład który może sprawiać zamieszanie: argumenty z domyślną wartością są zdefiniowane tylko w momencie uruchomiania komendy *def*. Co się staje, jeżeli argumentem z domyślną wartością jest lista?"
   ]
  },
  {
   "cell_type": "code",
   "execution_count": 27,
   "metadata": {},
   "outputs": [],
   "source": [
    "def buggy(arg, result=[]):\n",
    "    result.append(arg) \n",
    "    print(result)"
   ]
  },
  {
   "cell_type": "code",
   "execution_count": 28,
   "metadata": {},
   "outputs": [
    {
     "name": "stdout",
     "output_type": "stream",
     "text": [
      "['a']\n"
     ]
    }
   ],
   "source": [
    "buggy('a')"
   ]
  },
  {
   "cell_type": "code",
   "execution_count": 29,
   "metadata": {},
   "outputs": [
    {
     "name": "stdout",
     "output_type": "stream",
     "text": [
      "['a', 'a']\n"
     ]
    }
   ],
   "source": [
    "buggy('a')"
   ]
  },
  {
   "cell_type": "markdown",
   "metadata": {},
   "source": [
    "Rozwiązanie: https://web.archive.org/web/20200221224620/http://effbot.org/zone/default-values.htm"
   ]
  },
  {
   "cell_type": "code",
   "execution_count": 30,
   "metadata": {},
   "outputs": [],
   "source": [
    "def nonbuggy(arg, result=None):\n",
    "    if result is None:\n",
    "        result = [] \n",
    "    result.append(arg) \n",
    "    print(result)"
   ]
  },
  {
   "cell_type": "code",
   "execution_count": 31,
   "metadata": {},
   "outputs": [
    {
     "name": "stdout",
     "output_type": "stream",
     "text": [
      "['a']\n",
      "['a']\n"
     ]
    }
   ],
   "source": [
    "nonbuggy('a')\n",
    "nonbuggy('a')\n"
   ]
  },
  {
   "cell_type": "code",
   "execution_count": 108,
   "metadata": {},
   "outputs": [],
   "source": [
    "### również działa\n",
    "\n",
    "def works(arg):\n",
    "    result = [] \n",
    "    result.append(arg) \n",
    "    return result"
   ]
  },
  {
   "cell_type": "code",
   "execution_count": 109,
   "metadata": {},
   "outputs": [
    {
     "data": {
      "text/plain": [
       "['a']"
      ]
     },
     "execution_count": 109,
     "metadata": {},
     "output_type": "execute_result"
    }
   ],
   "source": [
    "works('a')\n",
    "works('a')"
   ]
  },
  {
   "cell_type": "markdown",
   "metadata": {},
   "source": [
    "#### Zadanie:\n",
    "1. Dodaj funkcję nazwaną lista_korzysci() – która zwraca następujące napisy: \"Lepiej zorganizowany kod\", \"Wieksza czytelnosc kodu\"\n",
    "2. Dodaj funkcję nazwaną buduj_zdanie(info), która otrzymuje pojedynczy argument zawierający napis i zwraca zdanie zaczynające się podanym napisem i kończące się \" jest zaletą funkcji!\"\n"
   ]
  },
  {
   "cell_type": "markdown",
   "metadata": {},
   "source": [
    "#### Wartości lokalne oraz globalne\n",
    "\n",
    "Zmienne zdefiniowane poza ciałem funkcji to zmienne globalne. Zmienne globalne mogą być używane zarówno wewnątrz jak i na zewnątrz funkcji. Domyślnie dostępne są w trybie tylko do odczytu. By umożliwić modyfikację zmiennej musi zadeklarować ją z użyciem instrukcji global. Jeśli zmienna zostanie zdefiniowana wewnątrz funkcji - bez użycia instrukcji global - uznawana jest domyślnie za zmienną lokalną. Jest to ogólna zasada.\n",
    "https://oscarsierraproject.eu/articles/python-zmienne-lokalne-globalne-oraz-swobodne-1598646671"
   ]
  },
  {
   "cell_type": "code",
   "execution_count": 63,
   "metadata": {},
   "outputs": [
    {
     "name": "stdout",
     "output_type": "stream",
     "text": [
      "at the top level: fruitbat\n",
      "inside print_global: fruitbat\n"
     ]
    }
   ],
   "source": [
    "animal = 'fruitbat'\n",
    "print('at the top level:', animal)\n",
    "def print_global():\n",
    "    print('inside print_global:', animal) \n",
    "print_global()"
   ]
  },
  {
   "cell_type": "code",
   "execution_count": 64,
   "metadata": {},
   "outputs": [
    {
     "name": "stdout",
     "output_type": "stream",
     "text": [
      "inside change_and_print_global: fruitbat\n",
      "4369435368\n",
      "after the change: wombat\n",
      "fruitbat\n",
      "4370142704\n"
     ]
    }
   ],
   "source": [
    "print('inside change_and_print_global:', animal) \n",
    "def change_and_print_global():\n",
    "    animal='wombat'\n",
    "    print(id(animal))\n",
    "    print('after the change:', animal)\n",
    "change_and_print_global()\n",
    "print(animal)\n",
    "print(id(animal))"
   ]
  },
  {
   "cell_type": "code",
   "execution_count": 65,
   "metadata": {},
   "outputs": [
    {
     "name": "stdout",
     "output_type": "stream",
     "text": [
      "4369435368\n",
      "after the change: wombat\n"
     ]
    }
   ],
   "source": [
    "change_and_print_global()"
   ]
  },
  {
   "cell_type": "code",
   "execution_count": 66,
   "metadata": {},
   "outputs": [
    {
     "name": "stdout",
     "output_type": "stream",
     "text": [
      "fruitbat\n",
      "inside change_and_print_global: wombat\n",
      "wombat\n"
     ]
    }
   ],
   "source": [
    "animal = 'fruitbat'\n",
    "def change_and_print_global():\n",
    "    global animal\n",
    "    animal='wombat'\n",
    "    print('inside change_and_print_global:', animal)\n",
    "print(animal)\n",
    "change_and_print_global()\n",
    "print(animal)"
   ]
  },
  {
   "cell_type": "markdown",
   "metadata": {},
   "source": [
    "W przypadku listy sytuacja jest inna: "
   ]
  },
  {
   "cell_type": "code",
   "execution_count": 72,
   "metadata": {},
   "outputs": [],
   "source": [
    "def change_arg(lista):\n",
    "    print ('Na wejściu wewnątrz funkcji: ', lista)\n",
    "    print(id(lista))\n",
    "    lista.append('black')\n",
    "    print ('Zmiana wewnątrz funkcji: ', lista)"
   ]
  },
  {
   "cell_type": "code",
   "execution_count": 70,
   "metadata": {},
   "outputs": [
    {
     "name": "stdout",
     "output_type": "stream",
     "text": [
      "4370211464\n",
      "Zmienna przed uruchomieniem funkcji:  ['red', 'blue', 'green']\n",
      "Na wejściu wewnątrz funkcji:  ['red', 'blue', 'green']\n",
      "4370211464\n",
      "Zmiana wewnątrz funkcji:  ['red', 'blue', 'green', 'black']\n",
      "Zmienna po uruchomieniu funkcji:  ['red', 'blue', 'green', 'black']\n"
     ]
    }
   ],
   "source": [
    "kolory = [\"red\", \"blue\", \"green\"]\n",
    "print(id(kolory))\n",
    "print ('Zmienna przed uruchomieniem funkcji: ', kolory)\n",
    "change_arg(kolory)\n",
    "print ('Zmienna po uruchomieniu funkcji: ', kolory)"
   ]
  },
  {
   "cell_type": "code",
   "execution_count": 75,
   "metadata": {},
   "outputs": [
    {
     "name": "stdout",
     "output_type": "stream",
     "text": [
      "Zmienna przed uruchomieniem funkcji:  ['red', 'blue', 'green']\n",
      "Na wejściu wewnątrz funkcji:  ['red', 'blue', 'green']\n",
      "Zmiana wewnątrz funkcji:  ['cyan', 'magenta', 'yellow']\n",
      "Zmienna po uruchomieniu funkcji:  ['red', 'blue', 'green']\n"
     ]
    }
   ],
   "source": [
    "def change_arg(lista):\n",
    "    print ('Na wejściu wewnątrz funkcji: ', lista)\n",
    "    lista=['cyan', 'magenta', 'yellow']\n",
    "    print ('Zmiana wewnątrz funkcji: ', lista)\n",
    "\n",
    "kolory = [\"red\", \"blue\", \"green\"]\n",
    "\n",
    "print ('Zmienna przed uruchomieniem funkcji: ', kolory)\n",
    "change_arg(kolory)\n",
    "print ('Zmienna po uruchomieniu funkcji: ', kolory)"
   ]
  },
  {
   "cell_type": "code",
   "execution_count": null,
   "metadata": {},
   "outputs": [],
   "source": []
  },
  {
   "cell_type": "markdown",
   "metadata": {},
   "source": [
    "W pierwszym przykładzie przekazaliśmy do funkcji referencję. Korzystając z metody append() zmieniliśmy zawartość tego co było pod podanym adresem. Nie próbowaliśmy jednak zmienić samego argumentu (referencji/adresu).\n",
    "\n",
    "W drugim przypadku, kiedy do argumentu \"lista\" przypisaliśmy nową listę, czyli próbowaliśmy zmienić przekazany do funkcji argument, było to działanie niemożliwe. Funkcja nie może bowiem zmienić samego argumentu na zewnątrz funkcji. Zmiana miała więc jedynie charakter lokalny.\n",
    "\n",
    "Każda funkcja w pythonie ma dostęp (w trybie odczytu) do zmiennych zdefiniowanych do tej pory w ramach skryptu. Poniższy przykład NIE jest zgodny z najlepszymi praktykami progamowania. Niemniej znajomość tej własności może nam czasem oszczędzić czasu, kiedy chcemy uzyskać jakiś efekt \"na szybko\"."
   ]
  },
  {
   "cell_type": "markdown",
   "metadata": {},
   "source": [
    "#### Zadanie\n",
    "1. Stwórz funkcję, która doda do dowolnej listy (np. zawierającej elementy \"work\" i \"home\") kolejny element \"school\". Wyświetl listę przed użyciem funkcji, wewnątrz funkcji oraz po wykonaniu funkcji.\n",
    "2. Stwórz funkcję, która zwiększa wartość zmiennej o 2, i następnie zwraca zmienną. Wyświetl zmienną x (=3) przed użyciem funkcji, wewnątrz funkcji oraz po wykonaniu funkcji.\n"
   ]
  },
  {
   "cell_type": "markdown",
   "metadata": {},
   "source": [
    "## Dynamiczna lista argumentów\n",
    "Python umożliwia napisanie funkcji, która przyjmie dowolną, nieokreśloną liczbę argumentów. Może być to dokonane za pomocą listy (operator - \\*) lub słownika (operator - \\*\\*). Przyjęło się, że wykorzystuje się do tego celu \\*args i \\*\\*kwargs. O ile w programowaniu strukturalnym nie przyda nam się to zbyt często, to w obiektowym, kiedy np. chcemy rozszerzyć istniejącą klasę, jest to już bardzo przydatne. Z tego też powodu możemy się z tym często spotkać patrząc na kod istniejących bibliotek. "
   ]
  },
  {
   "cell_type": "code",
   "execution_count": 171,
   "metadata": {},
   "outputs": [
    {
     "name": "stdout",
     "output_type": "stream",
     "text": [
      "red\n",
      "blue\n",
      "green\n"
     ]
    }
   ],
   "source": [
    "def printArgs(*args):\n",
    "    for arg in args:\n",
    "        print(arg)\n",
    "        \n",
    "printArgs(\"red\", \"blue\", \"green\")"
   ]
  },
  {
   "cell_type": "code",
   "execution_count": 172,
   "metadata": {},
   "outputs": [],
   "source": [
    "def print_more(required1, required2, *args): \n",
    "    print('Need this one:', required1) \n",
    "    print('Need this one too:', required2) \n",
    "    print('All the rest:', args)"
   ]
  },
  {
   "cell_type": "code",
   "execution_count": 173,
   "metadata": {},
   "outputs": [
    {
     "name": "stdout",
     "output_type": "stream",
     "text": [
      "Need this one: cap\n",
      "Need this one too: gloves\n",
      "All the rest: ('scarf', 'monocle', 'mustache wax')\n"
     ]
    }
   ],
   "source": [
    "print_more('cap', 'gloves', 'scarf', 'monocle', 'mustache wax')"
   ]
  },
  {
   "cell_type": "code",
   "execution_count": 35,
   "metadata": {},
   "outputs": [],
   "source": [
    "def print_kwargs(**kwargs):\n",
    "    print('Keyword arguments:', kwargs)"
   ]
  },
  {
   "cell_type": "code",
   "execution_count": 36,
   "metadata": {},
   "outputs": [
    {
     "name": "stdout",
     "output_type": "stream",
     "text": [
      "Keyword arguments: {'wine': 'merlot', 'entree': 'mutton', 'dessert': 'macaroon'}\n"
     ]
    }
   ],
   "source": [
    "print_kwargs(wine='merlot', entree='mutton', dessert='macaroon')"
   ]
  },
  {
   "cell_type": "markdown",
   "metadata": {},
   "source": [
    "## Funkcje lambda (anonimowe).\n",
    "Czasami definiowanie funkcji i umieszczanie jej na początku naszego skryptu wydaje się nam niepotrzebne, np. dlatego, że operacja jest bardzo prosta i nie będziemy jej wykonywali wielokrotnie. Ten typ tunkcji nie ma żadnej przewagi nad standardową funkcją, a ich wykorzystanie jest często kwestią stylistyczną. Warto się z nimi zapoznać chociażby dlatego, że dosyć często możemy je spotkać w kodzie innych programistów."
   ]
  },
  {
   "cell_type": "code",
   "execution_count": 174,
   "metadata": {},
   "outputs": [],
   "source": [
    "edit_story=lambda word: word.capitalize() + '!'"
   ]
  },
  {
   "cell_type": "code",
   "execution_count": 175,
   "metadata": {},
   "outputs": [
    {
     "data": {
      "text/plain": [
       "'Run!'"
      ]
     },
     "execution_count": 175,
     "metadata": {},
     "output_type": "execute_result"
    }
   ],
   "source": [
    "edit_story('run')"
   ]
  },
  {
   "cell_type": "code",
   "execution_count": 176,
   "metadata": {},
   "outputs": [],
   "source": [
    "def flatten_long(l):\n",
    "    new_l = []\n",
    "    for sublist in l:\n",
    "        for item in sublist:\n",
    "            new_l.append(item)\n",
    "    return new_l\n"
   ]
  },
  {
   "cell_type": "code",
   "execution_count": 177,
   "metadata": {},
   "outputs": [
    {
     "data": {
      "text/plain": [
       "['a', 'b', 'c', 'd', 'e']"
      ]
     },
     "execution_count": 177,
     "metadata": {},
     "output_type": "execute_result"
    }
   ],
   "source": [
    "flatten_long([['a', 'b'], ['c', 'd', 'e']])"
   ]
  },
  {
   "cell_type": "code",
   "execution_count": 178,
   "metadata": {},
   "outputs": [
    {
     "data": {
      "text/plain": [
       "['a', 'b', 'c', ['d', 'e']]"
      ]
     },
     "execution_count": 178,
     "metadata": {},
     "output_type": "execute_result"
    }
   ],
   "source": [
    "flatten_long([['a', 'b'], ['c', ['d', 'e']]])"
   ]
  },
  {
   "cell_type": "code",
   "execution_count": 179,
   "metadata": {},
   "outputs": [
    {
     "data": {
      "text/plain": [
       "['a', 'b', 'c', ['d', 'e']]"
      ]
     },
     "execution_count": 179,
     "metadata": {},
     "output_type": "execute_result"
    }
   ],
   "source": [
    "flatten = lambda x: [a for b in x for a in b]\n",
    "flatten([['a', 'b'], ['c', ['d', 'e']]])"
   ]
  },
  {
   "cell_type": "markdown",
   "metadata": {},
   "source": [
    "Może się zdarzyć sytuacja, że funkcja będzie zwracać inną funkcję. W tym przypadku wykorzystanie funkcji lambda będzie wygodne, a kod czytelny."
   ]
  },
  {
   "cell_type": "code",
   "execution_count": 180,
   "metadata": {},
   "outputs": [
    {
     "name": "stdout",
     "output_type": "stream",
     "text": [
      "20.775623268698062\n",
      "20.221606648199447\n"
     ]
    }
   ],
   "source": [
    "def switchBMI(sex=\"M\"):\n",
    "    if sex==\"M\":\n",
    "        return lambda weight, height: weight/height**2\n",
    "    else:\n",
    "        return lambda weight, height: (weight-2)/height**2\n",
    "BMI = switchBMI(\"M\")\n",
    "print(BMI(75, 1.90))\n",
    "BMI = switchBMI(\"F\")\n",
    "print(BMI(75, 1.90))"
   ]
  },
  {
   "cell_type": "markdown",
   "metadata": {},
   "source": [
    "#### Zadanie"
   ]
  },
  {
   "cell_type": "markdown",
   "metadata": {},
   "source": [
    "1. Dodaj 10 do argumentu a\n",
    "2. Pomnóż argument a przez argument b\n"
   ]
  },
  {
   "cell_type": "markdown",
   "metadata": {},
   "source": [
    "### Rekurencja\n",
    "\n",
    "![recursion](https://www.smbc-comics.com/comics/1562409923-20190706.png)\n",
    "\n",
    "Najbardziej nadużywane zdanie w informatyce to \"aby zrozumieć rekurencję, trzeba najpierw zrozumieć rekurencję\".\n",
    "\n",
    "Rekurencja (ang. recursion) oznacza, że wewnątrz funkcji odwołujemy się do niej samej. "
   ]
  },
  {
   "cell_type": "code",
   "execution_count": 192,
   "metadata": {},
   "outputs": [],
   "source": [
    "def countdown(n):\n",
    "    print(n)\n",
    "    if n == 0:\n",
    "        return             # Terminate recursion\n",
    "    else:\n",
    "        countdown(n - 1)   # Recursive call"
   ]
  },
  {
   "cell_type": "code",
   "execution_count": 193,
   "metadata": {},
   "outputs": [
    {
     "name": "stdout",
     "output_type": "stream",
     "text": [
      "10\n",
      "9\n",
      "8\n",
      "7\n",
      "6\n",
      "5\n",
      "4\n",
      "3\n",
      "2\n",
      "1\n",
      "0\n"
     ]
    }
   ],
   "source": [
    "countdown(10)"
   ]
  }
 ],
 "metadata": {
  "kernelspec": {
   "display_name": "Python 3",
   "language": "python",
   "name": "python3"
  },
  "language_info": {
   "codemirror_mode": {
    "name": "ipython",
    "version": 3
   },
   "file_extension": ".py",
   "mimetype": "text/x-python",
   "name": "python",
   "nbconvert_exporter": "python",
   "pygments_lexer": "ipython3",
   "version": "3.7.1"
  }
 },
 "nbformat": 4,
 "nbformat_minor": 4
}
